{
 "cells": [
  {
   "cell_type": "code",
   "execution_count": 1,
   "id": "706b8b1d",
   "metadata": {},
   "outputs": [],
   "source": [
    "import os\n",
    "import pandas as pd\n",
    "import numpy as np\n",
    "\n",
    "from pylab import rcParams\n",
    "import statsmodels.api as sm\n",
    "import matplotlib.pyplot as plt\n",
    "import matplotlib.dates as mdates\n",
    "import seaborn as sns"
   ]
  },
  {
   "cell_type": "code",
   "execution_count": 2,
   "id": "9b9e681c",
   "metadata": {},
   "outputs": [],
   "source": [
    "df=pd.read_csv(\"C:/Users/DELL/Desktop/Master_FIEK/Pergaditja dhe vizualizimi i te dhenave/GFP_dataset/global_food_prices.csv\", low_memory=False)"
   ]
  },
  {
   "cell_type": "code",
   "execution_count": 3,
   "id": "03193065",
   "metadata": {},
   "outputs": [
    {
     "name": "stdout",
     "output_type": "stream",
     "text": [
      "<class 'pandas.core.frame.DataFrame'>\n",
      "RangeIndex: 2050638 entries, 0 to 2050637\n",
      "Data columns (total 18 columns):\n",
      " #   Column              Dtype  \n",
      "---  ------              -----  \n",
      " 0   adm0_id             float64\n",
      " 1   adm0_name           object \n",
      " 2   adm1_id             int64  \n",
      " 3   adm1_name           object \n",
      " 4   mkt_id              int64  \n",
      " 5   mkt_name            object \n",
      " 6   cm_id               int64  \n",
      " 7   cm_name             object \n",
      " 8   cur_id              float64\n",
      " 9   cur_name            object \n",
      " 10  pt_id               int64  \n",
      " 11  pt_name             object \n",
      " 12  um_id               int64  \n",
      " 13  um_name             object \n",
      " 14  mp_month            int64  \n",
      " 15  mp_year             int64  \n",
      " 16  mp_price            float64\n",
      " 17  mp_commoditysource  float64\n",
      "dtypes: float64(4), int64(7), object(7)\n",
      "memory usage: 281.6+ MB\n"
     ]
    }
   ],
   "source": [
    "df.info()"
   ]
  },
  {
   "cell_type": "code",
   "execution_count": 4,
   "id": "a6e50f13",
   "metadata": {},
   "outputs": [
    {
     "data": {
      "text/plain": [
       "adm0_id                     0\n",
       "adm0_name                   0\n",
       "adm1_id                     0\n",
       "adm1_name              611016\n",
       "mkt_id                      0\n",
       "mkt_name                    0\n",
       "cm_id                       0\n",
       "cm_name                     0\n",
       "cur_id                      0\n",
       "cur_name                    0\n",
       "pt_id                       0\n",
       "pt_name                     0\n",
       "um_id                       0\n",
       "um_name                     0\n",
       "mp_month                    0\n",
       "mp_year                     0\n",
       "mp_price                    0\n",
       "mp_commoditysource    2050638\n",
       "dtype: int64"
      ]
     },
     "execution_count": 4,
     "metadata": {},
     "output_type": "execute_result"
    }
   ],
   "source": [
    "#identifying null vallues \n",
    "df.isnull().sum()"
   ]
  },
  {
   "cell_type": "code",
   "execution_count": 5,
   "id": "1ddddb43",
   "metadata": {},
   "outputs": [],
   "source": [
    "#handling columns with null values \n",
    "df=df.drop(['adm1_name', 'mp_commoditysource'], axis = 1)"
   ]
  },
  {
   "cell_type": "code",
   "execution_count": 6,
   "id": "77b6c93b",
   "metadata": {},
   "outputs": [
    {
     "data": {
      "text/plain": [
       "array(['KG', 'Day', 'Unit', 'L', 'USD/LCU', '30 pcs', '500 G', '125 G',\n",
       "       'Packet', '900 G', '50 Pounds', '100 KG', '46 KG', '11.5 KG',\n",
       "       'Pound', 'Cuartilla', 'Libra', '5 L', '10 pcs', '90 KG', '1 piece',\n",
       "       '400 G', '15 KG', '5 KG', '12 KG', '20 KG', '120 KG', '20 L',\n",
       "       '18 KG', '50 KG', '160 KG', '1.5 L', 'Sack', 'Package', 'Head',\n",
       "       'MT', '85 G', 'Gallon', '380 G', '500 ML', 'Month', 'Course',\n",
       "       '100 Pounds', '168 G', '45 KG', '70 G', '200 G', '68 KG', '109 KG',\n",
       "       '91 KG', '93 KG', '10 KG', 'Bunch', '250 KG', '100 Tubers',\n",
       "       '73 KG', '84 KG', '52 KG', '27 KG', '16 KG', '650 G', '750 ML',\n",
       "       '115 G', '360 pcs', '50 pcs', '100 pcs', 'Marmite', '350 G',\n",
       "       '385 G', '1.8 KG', 'Cylinder', '4 pcs', '150 ml', '2 KG', '1.8 L',\n",
       "       '170 G', '1.5 KG', '300 G', '0.8 KG', '160 G', '750 G', '12.5 KG',\n",
       "       '200 ML', '150 G', '1.3 KG', '185 G', 'Loaf', '2.25 KG', '5 pcs',\n",
       "       '250 G', '11 KG', 'Brush', '100 ML', 'Bar', '250 ML', 'Pile',\n",
       "       'Heap', '1.6 KG', 'Dozen', '100 L', '1.4 KG', '20 G', '3.4 KG',\n",
       "       '0.5 KG', '1.1 KG', '2.1 KG', '1.2 KG', '3.1 KG', '3.5 KG',\n",
       "       'Bundle', 'LCU/3.5kg', '25 KG', '3 L', 'Cubic meter', '60 KG',\n",
       "       '3 KG', '2.5 KG', '700 G', '800 G', '28 pcs', '900 ML', '50 ML',\n",
       "       'Pair', '1 GB', 'kWh'], dtype=object)"
      ]
     },
     "execution_count": 6,
     "metadata": {},
     "output_type": "execute_result"
    }
   ],
   "source": [
    "#get unique values for unit's used column \n",
    "df.um_name.unique()"
   ]
  },
  {
   "cell_type": "code",
   "execution_count": 7,
   "id": "5984f124",
   "metadata": {},
   "outputs": [
    {
     "data": {
      "text/plain": [
       "0          False\n",
       "1          False\n",
       "2          False\n",
       "3          False\n",
       "4          False\n",
       "           ...  \n",
       "2050633    False\n",
       "2050634    False\n",
       "2050635    False\n",
       "2050636    False\n",
       "2050637    False\n",
       "Name: um_name, Length: 2050638, dtype: bool"
      ]
     },
     "execution_count": 7,
     "metadata": {},
     "output_type": "execute_result"
    }
   ],
   "source": [
    "#check the data that has bad data as it's unit \n",
    "irrelevant_units = ['1 GB', 'kWh', 'Day', 'Unit', 'Head',  'Month', 'Course', 'Bunch', 'Marmite', 'Brush', 'Cylinder', 'Pile', 'Heap', 'Bundle', 'Cubic meter']\n",
    "df.um_name.isin(irrelevant_units)"
   ]
  },
  {
   "cell_type": "code",
   "execution_count": 8,
   "id": "aa17aeca",
   "metadata": {},
   "outputs": [
    {
     "name": "stdout",
     "output_type": "stream",
     "text": [
      "(86679, 16)\n"
     ]
    }
   ],
   "source": [
    "irrelevant_data = df[df.um_name.isin(irrelevant_units)]\n",
    "print(irrelevant_data.shape)"
   ]
  },
  {
   "cell_type": "code",
   "execution_count": 9,
   "id": "389a9e16",
   "metadata": {},
   "outputs": [
    {
     "name": "stdout",
     "output_type": "stream",
     "text": [
      "4.226928399844341\n"
     ]
    }
   ],
   "source": [
    "print((len(irrelevant_data)/len(df))*100)"
   ]
  },
  {
   "cell_type": "code",
   "execution_count": 10,
   "id": "3689cf63",
   "metadata": {},
   "outputs": [
    {
     "name": "stdout",
     "output_type": "stream",
     "text": [
      "Int64Index([    435,     436,     437,     438,     439,     440,     441,\n",
      "                442,     443,     444,\n",
      "            ...\n",
      "            1996699, 1996700, 1996701, 1996702, 1996703, 1996704, 1996705,\n",
      "            1996706, 1996707, 1996708],\n",
      "           dtype='int64', length=86679)\n"
     ]
    }
   ],
   "source": [
    "print(irrelevant_data.index)"
   ]
  },
  {
   "cell_type": "code",
   "execution_count": 12,
   "id": "b31c8f91",
   "metadata": {},
   "outputs": [],
   "source": [
    "df=df.drop(irrelevant_data.index, axis=0)"
   ]
  },
  {
   "cell_type": "code",
   "execution_count": 13,
   "id": "068e8223",
   "metadata": {},
   "outputs": [
    {
     "name": "stdout",
     "output_type": "stream",
     "text": [
      "(0, 16)\n"
     ]
    }
   ],
   "source": [
    "#test if irrelevant data is deleted \n",
    "irrelevant_data = df[df.um_name.isin(irrelevant_units)]\n",
    "print(irrelevant_data.shape)"
   ]
  },
  {
   "cell_type": "code",
   "execution_count": null,
   "id": "3bf0488a",
   "metadata": {},
   "outputs": [],
   "source": [
    "#drop columns that don't represent useful information for our project\n",
    "df=df.drop(['mkt_id', 'mkt_name'], axis = 1)"
   ]
  },
  {
   "cell_type": "code",
   "execution_count": 16,
   "id": "9873e4dd",
   "metadata": {},
   "outputs": [],
   "source": [
    "#drop columns that don't represent useful information for our project\n",
    "df=df.drop(['cm_id', 'um_id'], axis = 1)"
   ]
  },
  {
   "cell_type": "code",
   "execution_count": 17,
   "id": "c4e2c61c",
   "metadata": {},
   "outputs": [
    {
     "name": "stdout",
     "output_type": "stream",
     "text": [
      "(1963959, 12)\n"
     ]
    }
   ],
   "source": [
    "print(df.shape)"
   ]
  },
  {
   "cell_type": "code",
   "execution_count": 18,
   "id": "3380f2fc",
   "metadata": {},
   "outputs": [
    {
     "data": {
      "text/plain": [
       "array(['AFN', 'DZD', 'AOA', 'ARS', 'AMD', 'AZN', 'BDT', 'INR', 'BYR',\n",
       "       'XOF', 'BTN', 'BOB', 'BIF', 'KHR', 'XAF', 'CVE', 'CNY', 'COP',\n",
       "       'USD', 'CDF', 'DJF', 'DOP', 'EGP', 'ERN', 'ETB', 'GMD', 'GEL',\n",
       "       'GHS', 'GTQ', 'GNF', 'HTG', 'HNL', 'IDR', 'IRR', 'IQD', 'JPY',\n",
       "       'JOD', 'KZT', 'KES', 'KGS', 'LAK', 'LBP', 'LSL', 'LRD', 'LYD',\n",
       "       'MGA', 'MWK', 'MRO', 'MXN', 'MDL', 'MNT', 'MZN', 'MMK', 'NAD',\n",
       "       'NPR', 'NIO', 'NGN', 'PKR', 'PAB', 'PYG', 'PEN', 'PHP', 'RUB',\n",
       "       'RWF', 'SLL', 'SOS', 'ZAR', 'SSP', 'LKR', 'NIS', 'SDG', 'SZL',\n",
       "       'SYP', 'TJS', 'THB', 'TRY', 'UGX', 'UAH', 'TZS', 'VEF', 'VND',\n",
       "       'YER', 'ZMW', 'ZWL'], dtype=object)"
      ]
     },
     "execution_count": 18,
     "metadata": {},
     "output_type": "execute_result"
    }
   ],
   "source": [
    "#get currencies used\n",
    "df.cur_name.unique()"
   ]
  },
  {
   "cell_type": "code",
   "execution_count": 19,
   "id": "972a0b7e",
   "metadata": {},
   "outputs": [],
   "source": [
    "df['mm']=df['cur_name']\n",
    "df['um']=df['um_name']"
   ]
  },
  {
   "cell_type": "code",
   "execution_count": 26,
   "id": "49a3b7f5",
   "metadata": {},
   "outputs": [],
   "source": [
    "df.loc[df.um =='500 G',['um','mm']] = df[df['um']=='500 G']['mm']/0.5\n",
    "df.loc[df.um =='125 G',['um','mm']] = df[df['um']=='125 G']['mm']/0.125\n",
    "df.loc[df.um =='900 G',['um','mm']] = df[df['um']=='900 G']['mm']/0.9\n",
    "df.loc[df.um =='85 G',['um','mm']] = df[df['um']=='85 G']['mm']/0.085\n",
    "df.loc[df.um =='380 G',['um','mm']] = df[df['um']=='380 G']['mm']/0.38\n",
    "df.loc[df.um =='168 G',['um','mm']] = df[df['um']=='168 G']['mm']/0.168\n",
    "df.loc[df.um =='70 G',['um','mm']] = df[df['um']=='70 G']['mm']/0.07\n",
    "df.loc[df.um =='200 G',['um','mm']] = df[df['um']=='200 G']['mm']/0.2\n",
    "df.loc[df.um =='650 G',['um','mm']] = df[df['um']=='650 G']['mm']/0.65\n",
    "df.loc[df.um =='115 G',['um','mm']] = df[df['um']=='115 G']['mm']/0.115\n",
    "df.loc[df.um =='350 G',['um','mm']] = df[df['um']=='350 G']['mm']/0.35\n",
    "df.loc[df.um =='385 G',['um','mm']] = df[df['um']=='385 G']['mm']/0.385\n",
    "df.loc[df.um =='170 G',['um','mm']] = df[df['um']=='170 G']['mm']/0.17\n",
    "df.loc[df.um =='300 G',['um','mm']] = df[df['um']=='300 G']['mm']/0.3\n",
    "df.loc[df.um =='160 G',['um','mm']] = df[df['um']=='160 G']['mm']/0.16\n",
    "df.loc[df.um =='750 G',['um','mm']] = df[df['um']=='750 G']['mm']/0.75\n",
    "df.loc[df.um =='250 G',['um','mm']] = df[df['um']=='250 G']['mm']/0.25\n",
    "df.loc[df.um =='20 G',['um','mm']] = df[df['um']=='20 G']['mm']/0.02\n",
    "df.loc[df.um =='700 G',['um','mm']] = df[df['um']=='700 G']['mm']/0.7\n",
    "df.loc[df.um =='800 G',['um','mm']] = df[df['um']=='800 G']['mm']/0.8\n",
    "df.loc[df.um =='400 G',['um','mm']] = df[df['um']=='400 G']['mm']/0.4\n",
    "df.loc[df.um =='100 KG',['um','mm']] = df[df['um']=='100 KG']['mm']/100\n",
    "df.loc[df.um =='46 KG',['um','mm']] = df[df['um']=='46 KG']['mm']/46\n",
    "df.loc[df.um =='11.5 KG',['um','mm']] = df[df['um']=='11.5 KG']['mm']/11.5\n",
    "df.loc[df.um =='90 KG',['um','mm']] = df[df['um']=='90 KG']['mm']/90\n",
    "df.loc[df.um =='15 KG',['um','mm']] = df[df['um']=='15 KG']['mm']/15\n",
    "df.loc[df.um =='5 KG',['um','mm']] = df[df['um']=='5 KG']['mm']/5\n",
    "df.loc[df.um =='12 KG',['um','mm']] = df[df['um']=='12 KG']['mm']/12\n",
    "df.loc[df.um =='20 KG',['um','mm']] = df[df['um']=='20 KG']['mm']/20\n",
    "df.loc[df.um =='120 KG',['um','mm']] = df[df['um']=='120 KG']['mm']/120\n",
    "df.loc[df.um =='18 KG',['um','mm']] = df[df['um']=='18 KG']['mm']/18\n",
    "df.loc[df.um =='50 KG',['um','mm']] = df[df['um']=='50 KG']['mm']/50\n",
    "df.loc[df.um =='160 KG',['um','mm']] = df[df['um']=='160 KG']['mm']/160\n",
    "df.loc[df.um =='45 KG',['um','mm']] = df[df['um']=='45 KG']['mm']/45\n",
    "df.loc[df.um =='68 KG',['um','mm']] = df[df['um']=='68 KG']['mm']/68\n",
    "df.loc[df.um =='109 KG',['um','mm']] = df[df['um']=='109 KG']['mm']/109\n",
    "df.loc[df.um =='91 KG',['um','mm']] = df[df['um']=='91 KG']['mm']/91\n",
    "df.loc[df.um =='93 KG',['um','mm']] = df[df['um']=='93 KG']['mm']/93\n",
    "df.loc[df.um =='10 KG',['um','mm']] = df[df['um']=='10 KG']['mm']/10\n",
    "df.loc[df.um =='250 KG',['um','mm']] = df[df['um']=='250 KG']['mm']/250\n",
    "df.loc[df.um =='73 KG',['um','mm']] = df[df['um']=='73 KG']['mm']/73\n",
    "df.loc[df.um =='84 KG',['um','mm']] = df[df['um']=='84 KG']['mm']/84\n",
    "df.loc[df.um =='52 KG',['um','mm']] = df[df['um']=='52 KG']['mm']/52\n",
    "df.loc[df.um =='27 KG',['um','mm']] = df[df['um']=='27 KG']['mm']/27\n",
    "df.loc[df.um =='16 KG',['um','mm']] = df[df['um']=='16 KG']['mm']/16\n",
    "df.loc[df.um =='1.8 KG',['um','mm']] = df[df['um']=='1.8 KG']['mm']/1.8\n",
    "df.loc[df.um =='2 KG',['um','mm']] = df[df['um']=='2 KG']['mm']/2\n",
    "df.loc[df.um =='3.4 KG',['um','mm']] = df[df['um']=='3.4 KG']['mm']/3.4\n",
    "df.loc[df.um =='0.5 KG',['um','mm']] = df[df['um']=='0.5 KG']['mm']/0.5\n",
    "df.loc[df.um =='1.1 KG',['um','mm']] = df[df['um']=='1.1 KG']['mm']/1.1\n",
    "df.loc[df.um =='2.1 KG',['um','mm']] = df[df['um']=='2.1 KG']['mm']/2.1\n",
    "df.loc[df.um =='1.2 KG',['um','mm']] = df[df['um']=='1.2 KG']['mm']/1.2\n",
    "df.loc[df.um =='3.1 KG',['um','mm']] = df[df['um']=='3.1 KG']['mm']/3.1\n",
    "df.loc[df.um =='3.5 KG',['um','mm']] = df[df['um']=='3.5 KG']['mm']/3.5\n",
    "df.loc[df.um =='LCU/3.5kg',['um','mm']] = df[df['um']=='LCU/3.5kg']['mm']/3.5\n",
    "df.loc[df.um =='25 KG',['um','mm']] = df[df['um']=='25 KG']['mm']/25\n",
    "df.loc[df.um =='60 KG',['um','mm']] = df[df['um']=='60 KG']['mm']/60\n",
    "df.loc[df.um =='3 KG',['um','mm']] = df[df['um']=='3 KG']['mm']/3\n",
    "df.loc[df.um =='2.5 KG',['um','mm']] = df[df['um']=='2.5 KG']['mm']/2.5\n",
    "df.loc[df.um =='11 KG',['um','mm']] = df[df['um']=='11 KG']['mm']/11\n",
    "df.loc[df.um =='1.6 KG',['um','mm']] = df[df['um']=='1.6 KG']['mm']/1.6\n",
    "df.loc[df.um =='1.4 KG',['um','mm']] = df[df['um']=='1.4 KG']['mm']/1.4\n",
    "df.loc[df.um =='1.5 KG',['um','mm']] = df[df['um']=='1.5 KG']['mm']/1.5\n",
    "df.loc[df.um =='0.8 KG',['um','mm']] = df[df['um']=='0.8 KG']['mm']/0.8\n",
    "df.loc[df.um =='2.25 KG',['um','mm']] = df[df['um']=='2.25 KG']['mm']/2.25\n",
    "df.loc[df.um =='12.5 KG',['um','mm']] = df[df['um']=='12.5 KG']['mm']/12.5\n",
    "df.loc[df.um =='1.3 KG',['um','mm']] = df[df['um']=='1.3 KG']['mm']/1.3"
   ]
  },
  {
   "cell_type": "code",
   "execution_count": 21,
   "id": "43ebbc3c",
   "metadata": {},
   "outputs": [],
   "source": [
    "df['mm'] = pd.to_numeric(df['mm'],errors = 'coerce')"
   ]
  },
  {
   "cell_type": "code",
   "execution_count": 27,
   "id": "f6ef42f6",
   "metadata": {},
   "outputs": [
    {
     "data": {
      "text/html": [
       "<div>\n",
       "<style scoped>\n",
       "    .dataframe tbody tr th:only-of-type {\n",
       "        vertical-align: middle;\n",
       "    }\n",
       "\n",
       "    .dataframe tbody tr th {\n",
       "        vertical-align: top;\n",
       "    }\n",
       "\n",
       "    .dataframe thead th {\n",
       "        text-align: right;\n",
       "    }\n",
       "</style>\n",
       "<table border=\"1\" class=\"dataframe\">\n",
       "  <thead>\n",
       "    <tr style=\"text-align: right;\">\n",
       "      <th></th>\n",
       "      <th>adm0_id</th>\n",
       "      <th>adm0_name</th>\n",
       "      <th>adm1_id</th>\n",
       "      <th>cm_name</th>\n",
       "      <th>cur_id</th>\n",
       "      <th>cur_name</th>\n",
       "      <th>pt_id</th>\n",
       "      <th>pt_name</th>\n",
       "      <th>um_name</th>\n",
       "      <th>mp_month</th>\n",
       "      <th>mp_year</th>\n",
       "      <th>mp_price</th>\n",
       "      <th>mm</th>\n",
       "      <th>um</th>\n",
       "    </tr>\n",
       "  </thead>\n",
       "  <tbody>\n",
       "    <tr>\n",
       "      <th>2050633</th>\n",
       "      <td>271.0</td>\n",
       "      <td>Zimbabwe</td>\n",
       "      <td>3444</td>\n",
       "      <td>Beans (sugar) - Retail</td>\n",
       "      <td>0.0</td>\n",
       "      <td>ZWL</td>\n",
       "      <td>15</td>\n",
       "      <td>Retail</td>\n",
       "      <td>KG</td>\n",
       "      <td>6</td>\n",
       "      <td>2021</td>\n",
       "      <td>233.3333</td>\n",
       "      <td>NaN</td>\n",
       "      <td>KG</td>\n",
       "    </tr>\n",
       "    <tr>\n",
       "      <th>2050634</th>\n",
       "      <td>271.0</td>\n",
       "      <td>Zimbabwe</td>\n",
       "      <td>3444</td>\n",
       "      <td>Toothpaste - Retail</td>\n",
       "      <td>0.0</td>\n",
       "      <td>ZWL</td>\n",
       "      <td>15</td>\n",
       "      <td>Retail</td>\n",
       "      <td>100 ML</td>\n",
       "      <td>6</td>\n",
       "      <td>2021</td>\n",
       "      <td>112.5000</td>\n",
       "      <td>NaN</td>\n",
       "      <td>100 ML</td>\n",
       "    </tr>\n",
       "    <tr>\n",
       "      <th>2050635</th>\n",
       "      <td>271.0</td>\n",
       "      <td>Zimbabwe</td>\n",
       "      <td>3444</td>\n",
       "      <td>Laundry soap - Retail</td>\n",
       "      <td>0.0</td>\n",
       "      <td>ZWL</td>\n",
       "      <td>15</td>\n",
       "      <td>Retail</td>\n",
       "      <td>KG</td>\n",
       "      <td>6</td>\n",
       "      <td>2021</td>\n",
       "      <td>114.0000</td>\n",
       "      <td>NaN</td>\n",
       "      <td>KG</td>\n",
       "    </tr>\n",
       "    <tr>\n",
       "      <th>2050636</th>\n",
       "      <td>271.0</td>\n",
       "      <td>Zimbabwe</td>\n",
       "      <td>3444</td>\n",
       "      <td>Handwash soap - Retail</td>\n",
       "      <td>0.0</td>\n",
       "      <td>ZWL</td>\n",
       "      <td>15</td>\n",
       "      <td>Retail</td>\n",
       "      <td>250 G</td>\n",
       "      <td>6</td>\n",
       "      <td>2021</td>\n",
       "      <td>59.5000</td>\n",
       "      <td>NaN</td>\n",
       "      <td>NaN</td>\n",
       "    </tr>\n",
       "    <tr>\n",
       "      <th>2050637</th>\n",
       "      <td>271.0</td>\n",
       "      <td>Zimbabwe</td>\n",
       "      <td>3444</td>\n",
       "      <td>Fish (kapenta) - Retail</td>\n",
       "      <td>0.0</td>\n",
       "      <td>ZWL</td>\n",
       "      <td>15</td>\n",
       "      <td>Retail</td>\n",
       "      <td>KG</td>\n",
       "      <td>6</td>\n",
       "      <td>2021</td>\n",
       "      <td>1200.0000</td>\n",
       "      <td>NaN</td>\n",
       "      <td>KG</td>\n",
       "    </tr>\n",
       "  </tbody>\n",
       "</table>\n",
       "</div>"
      ],
      "text/plain": [
       "         adm0_id adm0_name  adm1_id                  cm_name  cur_id cur_name  \\\n",
       "2050633    271.0  Zimbabwe     3444   Beans (sugar) - Retail     0.0      ZWL   \n",
       "2050634    271.0  Zimbabwe     3444      Toothpaste - Retail     0.0      ZWL   \n",
       "2050635    271.0  Zimbabwe     3444    Laundry soap - Retail     0.0      ZWL   \n",
       "2050636    271.0  Zimbabwe     3444   Handwash soap - Retail     0.0      ZWL   \n",
       "2050637    271.0  Zimbabwe     3444  Fish (kapenta) - Retail     0.0      ZWL   \n",
       "\n",
       "         pt_id pt_name um_name  mp_month  mp_year   mp_price  mm      um  \n",
       "2050633     15  Retail      KG         6     2021   233.3333 NaN      KG  \n",
       "2050634     15  Retail  100 ML         6     2021   112.5000 NaN  100 ML  \n",
       "2050635     15  Retail      KG         6     2021   114.0000 NaN      KG  \n",
       "2050636     15  Retail   250 G         6     2021    59.5000 NaN     NaN  \n",
       "2050637     15  Retail      KG         6     2021  1200.0000 NaN      KG  "
      ]
     },
     "execution_count": 27,
     "metadata": {},
     "output_type": "execute_result"
    }
   ],
   "source": [
    "df.tail()"
   ]
  },
  {
   "cell_type": "code",
   "execution_count": 29,
   "id": "14181e1a",
   "metadata": {},
   "outputs": [
    {
     "data": {
      "text/plain": [
       "array([nan])"
      ]
     },
     "execution_count": 29,
     "metadata": {},
     "output_type": "execute_result"
    }
   ],
   "source": [
    "df.mm.unique()"
   ]
  },
  {
   "cell_type": "code",
   "execution_count": 30,
   "id": "72eab1f1",
   "metadata": {},
   "outputs": [],
   "source": [
    "df['mm']=df['cur_name']"
   ]
  },
  {
   "cell_type": "code",
   "execution_count": 31,
   "id": "6e7335aa",
   "metadata": {},
   "outputs": [
    {
     "data": {
      "text/html": [
       "<div>\n",
       "<style scoped>\n",
       "    .dataframe tbody tr th:only-of-type {\n",
       "        vertical-align: middle;\n",
       "    }\n",
       "\n",
       "    .dataframe tbody tr th {\n",
       "        vertical-align: top;\n",
       "    }\n",
       "\n",
       "    .dataframe thead th {\n",
       "        text-align: right;\n",
       "    }\n",
       "</style>\n",
       "<table border=\"1\" class=\"dataframe\">\n",
       "  <thead>\n",
       "    <tr style=\"text-align: right;\">\n",
       "      <th></th>\n",
       "      <th>adm0_id</th>\n",
       "      <th>adm0_name</th>\n",
       "      <th>adm1_id</th>\n",
       "      <th>cm_name</th>\n",
       "      <th>cur_id</th>\n",
       "      <th>cur_name</th>\n",
       "      <th>pt_id</th>\n",
       "      <th>pt_name</th>\n",
       "      <th>um_name</th>\n",
       "      <th>mp_month</th>\n",
       "      <th>mp_year</th>\n",
       "      <th>mp_price</th>\n",
       "      <th>mm</th>\n",
       "      <th>um</th>\n",
       "    </tr>\n",
       "  </thead>\n",
       "  <tbody>\n",
       "    <tr>\n",
       "      <th>2050633</th>\n",
       "      <td>271.0</td>\n",
       "      <td>Zimbabwe</td>\n",
       "      <td>3444</td>\n",
       "      <td>Beans (sugar) - Retail</td>\n",
       "      <td>0.0</td>\n",
       "      <td>ZWL</td>\n",
       "      <td>15</td>\n",
       "      <td>Retail</td>\n",
       "      <td>KG</td>\n",
       "      <td>6</td>\n",
       "      <td>2021</td>\n",
       "      <td>233.3333</td>\n",
       "      <td>ZWL</td>\n",
       "      <td>KG</td>\n",
       "    </tr>\n",
       "    <tr>\n",
       "      <th>2050634</th>\n",
       "      <td>271.0</td>\n",
       "      <td>Zimbabwe</td>\n",
       "      <td>3444</td>\n",
       "      <td>Toothpaste - Retail</td>\n",
       "      <td>0.0</td>\n",
       "      <td>ZWL</td>\n",
       "      <td>15</td>\n",
       "      <td>Retail</td>\n",
       "      <td>100 ML</td>\n",
       "      <td>6</td>\n",
       "      <td>2021</td>\n",
       "      <td>112.5000</td>\n",
       "      <td>ZWL</td>\n",
       "      <td>100 ML</td>\n",
       "    </tr>\n",
       "    <tr>\n",
       "      <th>2050635</th>\n",
       "      <td>271.0</td>\n",
       "      <td>Zimbabwe</td>\n",
       "      <td>3444</td>\n",
       "      <td>Laundry soap - Retail</td>\n",
       "      <td>0.0</td>\n",
       "      <td>ZWL</td>\n",
       "      <td>15</td>\n",
       "      <td>Retail</td>\n",
       "      <td>KG</td>\n",
       "      <td>6</td>\n",
       "      <td>2021</td>\n",
       "      <td>114.0000</td>\n",
       "      <td>ZWL</td>\n",
       "      <td>KG</td>\n",
       "    </tr>\n",
       "    <tr>\n",
       "      <th>2050636</th>\n",
       "      <td>271.0</td>\n",
       "      <td>Zimbabwe</td>\n",
       "      <td>3444</td>\n",
       "      <td>Handwash soap - Retail</td>\n",
       "      <td>0.0</td>\n",
       "      <td>ZWL</td>\n",
       "      <td>15</td>\n",
       "      <td>Retail</td>\n",
       "      <td>250 G</td>\n",
       "      <td>6</td>\n",
       "      <td>2021</td>\n",
       "      <td>59.5000</td>\n",
       "      <td>ZWL</td>\n",
       "      <td>NaN</td>\n",
       "    </tr>\n",
       "    <tr>\n",
       "      <th>2050637</th>\n",
       "      <td>271.0</td>\n",
       "      <td>Zimbabwe</td>\n",
       "      <td>3444</td>\n",
       "      <td>Fish (kapenta) - Retail</td>\n",
       "      <td>0.0</td>\n",
       "      <td>ZWL</td>\n",
       "      <td>15</td>\n",
       "      <td>Retail</td>\n",
       "      <td>KG</td>\n",
       "      <td>6</td>\n",
       "      <td>2021</td>\n",
       "      <td>1200.0000</td>\n",
       "      <td>ZWL</td>\n",
       "      <td>KG</td>\n",
       "    </tr>\n",
       "  </tbody>\n",
       "</table>\n",
       "</div>"
      ],
      "text/plain": [
       "         adm0_id adm0_name  adm1_id                  cm_name  cur_id cur_name  \\\n",
       "2050633    271.0  Zimbabwe     3444   Beans (sugar) - Retail     0.0      ZWL   \n",
       "2050634    271.0  Zimbabwe     3444      Toothpaste - Retail     0.0      ZWL   \n",
       "2050635    271.0  Zimbabwe     3444    Laundry soap - Retail     0.0      ZWL   \n",
       "2050636    271.0  Zimbabwe     3444   Handwash soap - Retail     0.0      ZWL   \n",
       "2050637    271.0  Zimbabwe     3444  Fish (kapenta) - Retail     0.0      ZWL   \n",
       "\n",
       "         pt_id pt_name um_name  mp_month  mp_year   mp_price   mm      um  \n",
       "2050633     15  Retail      KG         6     2021   233.3333  ZWL      KG  \n",
       "2050634     15  Retail  100 ML         6     2021   112.5000  ZWL  100 ML  \n",
       "2050635     15  Retail      KG         6     2021   114.0000  ZWL      KG  \n",
       "2050636     15  Retail   250 G         6     2021    59.5000  ZWL     NaN  \n",
       "2050637     15  Retail      KG         6     2021  1200.0000  ZWL      KG  "
      ]
     },
     "execution_count": 31,
     "metadata": {},
     "output_type": "execute_result"
    }
   ],
   "source": [
    "df.tail()"
   ]
  },
  {
   "cell_type": "code",
   "execution_count": 39,
   "id": "35470d7b",
   "metadata": {},
   "outputs": [],
   "source": [
    "df.loc[df.mm == 'AFN',['mm','mp_price']] = df[df['cur_name']=='AFN']['mp_price']*0.011\n",
    "df.loc[df.mm == 'ZWL',['mm','mp_price']] = df[df['cur_name']=='ZWL']['mp_price']*0.0027\n",
    "df.loc[df.mm == 'AMD',['mm','mp_price']] = df[df['cur_name']=='AMD']['mp_price']*0.0021\n",
    "df.loc[df.mm == 'AOA',['mm','mp_price']] = df[df['cur_name']=='AOA']['mp_price']*0.0017\n",
    "df.loc[df.mm == 'ARS',['mm','mp_price']] = df[df['cur_name']=='ARS']['mp_price']*0.0100\n",
    "df.loc[df.mm == 'AZN',['mm','mp_price']] = df[df['cur_name']=='AZN']['mp_price']*0.59\n",
    "df.loc[df.mm == 'BDT',['mm','mp_price']] = df[df['cur_name']=='BDT']['mp_price']*0.012\n",
    "df.loc[df.mm == 'BIF',['mm','mp_price']] = df[df['cur_name']=='BIF']['mp_price']*0.00050\n",
    "df.loc[df.mm == 'BOB',['mm','mp_price']] = df[df['cur_name']=='BOB']['mp_price']*0.14\n",
    "df.loc[df.mm == 'BTN',['mm','mp_price']] = df[df['cur_name']=='BTN']['mp_price']*0.013;\n",
    "df.loc[df.mm == 'BYR',['mm','mp_price']]  = df[df['cur_name']=='BYR']['mp_price']*0.041;\n",
    "df.loc[df.mm == 'CDF',['mm','mp_price']] = df[df['cur_name']=='CDF']['mp_price']*0.00050;\n",
    "df.loc[df.mm == 'CNY',['mm','mp_price']] = df[df['cur_name']=='CNY']['mp_price']*0.16;\n",
    "df.loc[df.mm == 'COP',['mm','mp_price']] = df[df['cur_name']=='COP']['mp_price']*0.00026;\n",
    "df.loc[df.mm == 'CVE',['mm','mp_price']] = df[df['cur_name']=='CVE']['mp_price']*0.0103;\n",
    "df.loc[df.mm == 'DJF',['mm','mp_price']] = df[df['cur_name']=='DJF']['mp_price']*0.0056;\n",
    "df.loc[df.mm == 'DOP',['mm','mp_price']] = df[df['cur_name']=='DOP']['mp_price']*0.018;\n",
    "df.loc[df.mm == 'DZD',['mm','mp_price']] = df[df['cur_name']=='DZD']['mp_price']*0.0072;\n",
    "df.loc[df.mm == 'EGP',['mm','mp_price']] = df[df['cur_name']=='EGP']['mp_price']*0.064;\n",
    "df.loc[df.mm == 'ERN',['mm','mp_price']] = df[df['cur_name']=='ERN']['mp_price']*0.066;\n",
    "df.loc[df.mm == 'ETB',['mm','mp_price']] = df[df['cur_name']=='ETB']['mp_price']*0.021;\n",
    "df.loc[df.mm == 'GEL',['mm','mp_price']] = df[df['cur_name']=='GEL']['mp_price']*0.32;\n",
    "df.loc[df.mm == 'GHS',['mm','mp_price']] = df[df['cur_name']=='GHS']['mp_price']*0.16;\n",
    "df.loc[df.mm == 'GMD',['mm','mp_price']] = df[df['cur_name']=='GMD']['mp_price']*0.019;\n",
    "df.loc[df.mm == 'GNF',['mm','mp_price']] = df[df['cur_name']=='GNF']['mp_price']*0.00011;\n",
    "df.loc[df.mm == 'GTQ',['mm','mp_price']] = df[df['cur_name']=='GTQ']['mp_price']*0.13;\n",
    "df.loc[df.mm == 'HNL',['mm','mp_price']] = df[df['cur_name']=='HNL']['mp_price']*0.041;\n",
    "df.loc[df.mm == 'HTG',['mm','mp_price']] = df[df['cur_name']=='HTG']['mp_price']*0.010;\n",
    "df.loc[df.mm == 'IDR',['mm','mp_price']] = df[df['cur_name']=='IDR']['mp_price']*0.000070;\n",
    "df.loc[df.mm == 'INR',['mm','mp_price']] = df[df['cur_name']=='INR']['mp_price']*0.013;\n",
    "df.loc[df.mm == 'IQD',['mm','mp_price']] = df[df['cur_name']=='IQD']['mp_price']*0.00068;\n",
    "df.loc[df.mm == 'IRR',['mm','mp_price']] = df[df['cur_name']=='IRR']['mp_price']*0.000024;\n",
    "df.loc[df.mm == 'JOD',['mm','mp_price']] = df[df['cur_name']=='JOD']['mp_price']*1.41;\n",
    "df.loc[df.mm == 'JPY',['mm','mp_price']] = df[df['cur_name']=='JPY']['mp_price']*0.0087;\n",
    "df.loc[df.mm == 'KES',['mm','mp_price']] = df[df['cur_name']=='KES']['mp_price']*0.0089;\n",
    "df.loc[df.mm == 'KGS',['mm','mp_price']] = df[df['cur_name']=='KGS']['mp_price']*0.012;\n",
    "df.loc[df.mm == 'KHR',['mm','mp_price']] = df[df['cur_name']=='KHR']['mp_price']*0.00025;\n",
    "df.loc[df.mm == 'KZT',['mm','mp_price']] = df[df['cur_name']=='KZT']['mp_price']*0.0023;\n",
    "df.loc[df.mm == 'LAK',['mm','mp_price']] = df[df['cur_name']=='LAK']['mp_price']*0.000094;\n",
    "df.loc[df.mm == 'LBP',['mm','mp_price']] = df[df['cur_name']=='LBP']['mp_price']*0.00065;\n",
    "df.loc[df.mm == 'LKR',['mm','mp_price']] = df[df['cur_name']=='LKR']['mp_price']*0.0050;\n",
    "df.loc[df.mm == 'LRD',['mm','mp_price']] = df[df['cur_name']=='LRD']['mp_price']*0.0070;\n",
    "df.loc[df.mm == 'LSL',['mm','mp_price']] = df[df['cur_name']=='LSL']['mp_price']*0.064;\n",
    "df.loc[df.mm == 'LYD',['mm','mp_price']] = df[df['cur_name']=='LYD']['mp_price']*0.22;\n",
    "df.loc[df.mm == 'MDL',['mm','mp_price']] = df[df['cur_name']=='MDL']['mp_price']*0.057;\n",
    "df.loc[df.mm == 'MMK',['mm','mp_price']] = df[df['cur_name']=='MMK']['mp_price']*0.00057;"
   ]
  },
  {
   "cell_type": "code",
   "execution_count": 40,
   "id": "c918b806",
   "metadata": {},
   "outputs": [
    {
     "data": {
      "text/html": [
       "<div>\n",
       "<style scoped>\n",
       "    .dataframe tbody tr th:only-of-type {\n",
       "        vertical-align: middle;\n",
       "    }\n",
       "\n",
       "    .dataframe tbody tr th {\n",
       "        vertical-align: top;\n",
       "    }\n",
       "\n",
       "    .dataframe thead th {\n",
       "        text-align: right;\n",
       "    }\n",
       "</style>\n",
       "<table border=\"1\" class=\"dataframe\">\n",
       "  <thead>\n",
       "    <tr style=\"text-align: right;\">\n",
       "      <th></th>\n",
       "      <th>adm0_id</th>\n",
       "      <th>adm0_name</th>\n",
       "      <th>adm1_id</th>\n",
       "      <th>cm_name</th>\n",
       "      <th>cur_id</th>\n",
       "      <th>cur_name</th>\n",
       "      <th>pt_id</th>\n",
       "      <th>pt_name</th>\n",
       "      <th>um_name</th>\n",
       "      <th>mp_month</th>\n",
       "      <th>mp_year</th>\n",
       "      <th>mp_price</th>\n",
       "      <th>mm</th>\n",
       "      <th>um</th>\n",
       "    </tr>\n",
       "  </thead>\n",
       "  <tbody>\n",
       "    <tr>\n",
       "      <th>2050633</th>\n",
       "      <td>271.0</td>\n",
       "      <td>Zimbabwe</td>\n",
       "      <td>3444</td>\n",
       "      <td>Beans (sugar) - Retail</td>\n",
       "      <td>0.0</td>\n",
       "      <td>ZWL</td>\n",
       "      <td>15</td>\n",
       "      <td>Retail</td>\n",
       "      <td>KG</td>\n",
       "      <td>6</td>\n",
       "      <td>2021</td>\n",
       "      <td>0.63000</td>\n",
       "      <td>0.63</td>\n",
       "      <td>KG</td>\n",
       "    </tr>\n",
       "    <tr>\n",
       "      <th>2050634</th>\n",
       "      <td>271.0</td>\n",
       "      <td>Zimbabwe</td>\n",
       "      <td>3444</td>\n",
       "      <td>Toothpaste - Retail</td>\n",
       "      <td>0.0</td>\n",
       "      <td>ZWL</td>\n",
       "      <td>15</td>\n",
       "      <td>Retail</td>\n",
       "      <td>100 ML</td>\n",
       "      <td>6</td>\n",
       "      <td>2021</td>\n",
       "      <td>0.30375</td>\n",
       "      <td>0.30375</td>\n",
       "      <td>100 ML</td>\n",
       "    </tr>\n",
       "    <tr>\n",
       "      <th>2050635</th>\n",
       "      <td>271.0</td>\n",
       "      <td>Zimbabwe</td>\n",
       "      <td>3444</td>\n",
       "      <td>Laundry soap - Retail</td>\n",
       "      <td>0.0</td>\n",
       "      <td>ZWL</td>\n",
       "      <td>15</td>\n",
       "      <td>Retail</td>\n",
       "      <td>KG</td>\n",
       "      <td>6</td>\n",
       "      <td>2021</td>\n",
       "      <td>0.30780</td>\n",
       "      <td>0.3078</td>\n",
       "      <td>KG</td>\n",
       "    </tr>\n",
       "    <tr>\n",
       "      <th>2050636</th>\n",
       "      <td>271.0</td>\n",
       "      <td>Zimbabwe</td>\n",
       "      <td>3444</td>\n",
       "      <td>Handwash soap - Retail</td>\n",
       "      <td>0.0</td>\n",
       "      <td>ZWL</td>\n",
       "      <td>15</td>\n",
       "      <td>Retail</td>\n",
       "      <td>250 G</td>\n",
       "      <td>6</td>\n",
       "      <td>2021</td>\n",
       "      <td>0.16065</td>\n",
       "      <td>0.16065</td>\n",
       "      <td>NaN</td>\n",
       "    </tr>\n",
       "    <tr>\n",
       "      <th>2050637</th>\n",
       "      <td>271.0</td>\n",
       "      <td>Zimbabwe</td>\n",
       "      <td>3444</td>\n",
       "      <td>Fish (kapenta) - Retail</td>\n",
       "      <td>0.0</td>\n",
       "      <td>ZWL</td>\n",
       "      <td>15</td>\n",
       "      <td>Retail</td>\n",
       "      <td>KG</td>\n",
       "      <td>6</td>\n",
       "      <td>2021</td>\n",
       "      <td>3.24000</td>\n",
       "      <td>3.24</td>\n",
       "      <td>KG</td>\n",
       "    </tr>\n",
       "  </tbody>\n",
       "</table>\n",
       "</div>"
      ],
      "text/plain": [
       "         adm0_id adm0_name  adm1_id                  cm_name  cur_id cur_name  \\\n",
       "2050633    271.0  Zimbabwe     3444   Beans (sugar) - Retail     0.0      ZWL   \n",
       "2050634    271.0  Zimbabwe     3444      Toothpaste - Retail     0.0      ZWL   \n",
       "2050635    271.0  Zimbabwe     3444    Laundry soap - Retail     0.0      ZWL   \n",
       "2050636    271.0  Zimbabwe     3444   Handwash soap - Retail     0.0      ZWL   \n",
       "2050637    271.0  Zimbabwe     3444  Fish (kapenta) - Retail     0.0      ZWL   \n",
       "\n",
       "         pt_id pt_name um_name  mp_month  mp_year  mp_price       mm      um  \n",
       "2050633     15  Retail      KG         6     2021   0.63000     0.63      KG  \n",
       "2050634     15  Retail  100 ML         6     2021   0.30375  0.30375  100 ML  \n",
       "2050635     15  Retail      KG         6     2021   0.30780   0.3078      KG  \n",
       "2050636     15  Retail   250 G         6     2021   0.16065  0.16065     NaN  \n",
       "2050637     15  Retail      KG         6     2021   3.24000     3.24      KG  "
      ]
     },
     "execution_count": 40,
     "metadata": {},
     "output_type": "execute_result"
    }
   ],
   "source": [
    "df.tail()"
   ]
  },
  {
   "cell_type": "code",
   "execution_count": 43,
   "id": "18c82e64",
   "metadata": {},
   "outputs": [],
   "source": [
    "df['um']=df['um_name']"
   ]
  },
  {
   "cell_type": "code",
   "execution_count": 44,
   "id": "e0c39249",
   "metadata": {},
   "outputs": [
    {
     "data": {
      "text/html": [
       "<div>\n",
       "<style scoped>\n",
       "    .dataframe tbody tr th:only-of-type {\n",
       "        vertical-align: middle;\n",
       "    }\n",
       "\n",
       "    .dataframe tbody tr th {\n",
       "        vertical-align: top;\n",
       "    }\n",
       "\n",
       "    .dataframe thead th {\n",
       "        text-align: right;\n",
       "    }\n",
       "</style>\n",
       "<table border=\"1\" class=\"dataframe\">\n",
       "  <thead>\n",
       "    <tr style=\"text-align: right;\">\n",
       "      <th></th>\n",
       "      <th>adm0_id</th>\n",
       "      <th>adm0_name</th>\n",
       "      <th>adm1_id</th>\n",
       "      <th>cm_name</th>\n",
       "      <th>cur_id</th>\n",
       "      <th>cur_name</th>\n",
       "      <th>pt_id</th>\n",
       "      <th>pt_name</th>\n",
       "      <th>um_name</th>\n",
       "      <th>mp_month</th>\n",
       "      <th>mp_year</th>\n",
       "      <th>mp_price</th>\n",
       "      <th>mm</th>\n",
       "      <th>um</th>\n",
       "    </tr>\n",
       "  </thead>\n",
       "  <tbody>\n",
       "    <tr>\n",
       "      <th>2050633</th>\n",
       "      <td>271.0</td>\n",
       "      <td>Zimbabwe</td>\n",
       "      <td>3444</td>\n",
       "      <td>Beans (sugar) - Retail</td>\n",
       "      <td>0.0</td>\n",
       "      <td>ZWL</td>\n",
       "      <td>15</td>\n",
       "      <td>Retail</td>\n",
       "      <td>KG</td>\n",
       "      <td>6</td>\n",
       "      <td>2021</td>\n",
       "      <td>0.63000</td>\n",
       "      <td>0.63</td>\n",
       "      <td>KG</td>\n",
       "    </tr>\n",
       "    <tr>\n",
       "      <th>2050634</th>\n",
       "      <td>271.0</td>\n",
       "      <td>Zimbabwe</td>\n",
       "      <td>3444</td>\n",
       "      <td>Toothpaste - Retail</td>\n",
       "      <td>0.0</td>\n",
       "      <td>ZWL</td>\n",
       "      <td>15</td>\n",
       "      <td>Retail</td>\n",
       "      <td>100 ML</td>\n",
       "      <td>6</td>\n",
       "      <td>2021</td>\n",
       "      <td>0.30375</td>\n",
       "      <td>0.30375</td>\n",
       "      <td>100 ML</td>\n",
       "    </tr>\n",
       "    <tr>\n",
       "      <th>2050635</th>\n",
       "      <td>271.0</td>\n",
       "      <td>Zimbabwe</td>\n",
       "      <td>3444</td>\n",
       "      <td>Laundry soap - Retail</td>\n",
       "      <td>0.0</td>\n",
       "      <td>ZWL</td>\n",
       "      <td>15</td>\n",
       "      <td>Retail</td>\n",
       "      <td>KG</td>\n",
       "      <td>6</td>\n",
       "      <td>2021</td>\n",
       "      <td>0.30780</td>\n",
       "      <td>0.3078</td>\n",
       "      <td>KG</td>\n",
       "    </tr>\n",
       "    <tr>\n",
       "      <th>2050636</th>\n",
       "      <td>271.0</td>\n",
       "      <td>Zimbabwe</td>\n",
       "      <td>3444</td>\n",
       "      <td>Handwash soap - Retail</td>\n",
       "      <td>0.0</td>\n",
       "      <td>ZWL</td>\n",
       "      <td>15</td>\n",
       "      <td>Retail</td>\n",
       "      <td>250 G</td>\n",
       "      <td>6</td>\n",
       "      <td>2021</td>\n",
       "      <td>0.16065</td>\n",
       "      <td>0.16065</td>\n",
       "      <td>250 G</td>\n",
       "    </tr>\n",
       "    <tr>\n",
       "      <th>2050637</th>\n",
       "      <td>271.0</td>\n",
       "      <td>Zimbabwe</td>\n",
       "      <td>3444</td>\n",
       "      <td>Fish (kapenta) - Retail</td>\n",
       "      <td>0.0</td>\n",
       "      <td>ZWL</td>\n",
       "      <td>15</td>\n",
       "      <td>Retail</td>\n",
       "      <td>KG</td>\n",
       "      <td>6</td>\n",
       "      <td>2021</td>\n",
       "      <td>3.24000</td>\n",
       "      <td>3.24</td>\n",
       "      <td>KG</td>\n",
       "    </tr>\n",
       "  </tbody>\n",
       "</table>\n",
       "</div>"
      ],
      "text/plain": [
       "         adm0_id adm0_name  adm1_id                  cm_name  cur_id cur_name  \\\n",
       "2050633    271.0  Zimbabwe     3444   Beans (sugar) - Retail     0.0      ZWL   \n",
       "2050634    271.0  Zimbabwe     3444      Toothpaste - Retail     0.0      ZWL   \n",
       "2050635    271.0  Zimbabwe     3444    Laundry soap - Retail     0.0      ZWL   \n",
       "2050636    271.0  Zimbabwe     3444   Handwash soap - Retail     0.0      ZWL   \n",
       "2050637    271.0  Zimbabwe     3444  Fish (kapenta) - Retail     0.0      ZWL   \n",
       "\n",
       "         pt_id pt_name um_name  mp_month  mp_year  mp_price       mm      um  \n",
       "2050633     15  Retail      KG         6     2021   0.63000     0.63      KG  \n",
       "2050634     15  Retail  100 ML         6     2021   0.30375  0.30375  100 ML  \n",
       "2050635     15  Retail      KG         6     2021   0.30780   0.3078      KG  \n",
       "2050636     15  Retail   250 G         6     2021   0.16065  0.16065   250 G  \n",
       "2050637     15  Retail      KG         6     2021   3.24000     3.24      KG  "
      ]
     },
     "execution_count": 44,
     "metadata": {},
     "output_type": "execute_result"
    }
   ],
   "source": [
    "df.tail()"
   ]
  },
  {
   "cell_type": "code",
   "execution_count": 48,
   "id": "c7cac34b",
   "metadata": {},
   "outputs": [],
   "source": [
    "df.loc[df.um =='500 G',['um','mm']] = df[df['um']=='500 G']['mm']/0.5\n",
    "df.loc[df.um =='125 G',['um','mm']] = df[df['um']=='125 G']['mm']/0.125\n",
    "df.loc[df.um =='900 G',['um','mm']] = df[df['um']=='900 G']['mm']/0.9\n",
    "df.loc[df.um =='85 G',['um','mm']] = df[df['um']=='85 G']['mm']/0.085\n",
    "df.loc[df.um =='380 G',['um','mm']] = df[df['um']=='380 G']['mm']/0.38\n",
    "df.loc[df.um =='168 G',['um','mm']] = df[df['um']=='168 G']['mm']/0.168\n",
    "df.loc[df.um =='70 G',['um','mm']] = df[df['um']=='70 G']['mm']/0.07\n",
    "df.loc[df.um =='200 G',['um','mm']] = df[df['um']=='200 G']['mm']/0.2\n",
    "df.loc[df.um =='650 G',['um','mm']] = df[df['um']=='650 G']['mm']/0.65\n",
    "df.loc[df.um =='115 G',['um','mm']] = df[df['um']=='115 G']['mm']/0.115\n",
    "df.loc[df.um =='350 G',['um','mm']] = df[df['um']=='350 G']['mm']/0.35\n",
    "df.loc[df.um =='385 G',['um','mm']] = df[df['um']=='385 G']['mm']/0.385\n",
    "df.loc[df.um =='170 G',['um','mm']] = df[df['um']=='170 G']['mm']/0.17\n",
    "df.loc[df.um =='300 G',['um','mm']] = df[df['um']=='300 G']['mm']/0.3\n",
    "df.loc[df.um =='160 G',['um','mm']] = df[df['um']=='160 G']['mm']/0.16\n",
    "df.loc[df.um =='750 G',['um','mm']] = df[df['um']=='750 G']['mm']/0.75\n",
    "df.loc[df.um =='250 G',['um','mm']] = df[df['um']=='250 G']['mm']/0.25\n",
    "df.loc[df.um =='20 G',['um','mm']] = df[df['um']=='20 G']['mm']/0.02\n",
    "df.loc[df.um =='700 G',['um','mm']] = df[df['um']=='700 G']['mm']/0.7\n",
    "df.loc[df.um =='800 G',['um','mm']] = df[df['um']=='800 G']['mm']/0.8\n",
    "df.loc[df.um =='400 G',['um','mm']] = df[df['um']=='400 G']['mm']/0.4\n",
    "df.loc[df.um =='100 KG',['um','mm']] = df[df['um']=='100 KG']['mm']/100\n",
    "df.loc[df.um =='46 KG',['um','mm']] = df[df['um']=='46 KG']['mm']/46\n",
    "df.loc[df.um =='11.5 KG',['um','mm']] = df[df['um']=='11.5 KG']['mm']/11.5\n",
    "df.loc[df.um =='90 KG',['um','mm']] = df[df['um']=='90 KG']['mm']/90\n",
    "df.loc[df.um =='15 KG',['um','mm']] = df[df['um']=='15 KG']['mm']/15\n",
    "df.loc[df.um =='5 KG',['um','mm']] = df[df['um']=='5 KG']['mm']/5\n",
    "df.loc[df.um =='12 KG',['um','mm']] = df[df['um']=='12 KG']['mm']/12\n",
    "df.loc[df.um =='20 KG',['um','mm']] = df[df['um']=='20 KG']['mm']/20\n",
    "df.loc[df.um =='120 KG',['um','mm']] = df[df['um']=='120 KG']['mm']/120\n",
    "df.loc[df.um =='18 KG',['um','mm']] = df[df['um']=='18 KG']['mm']/18\n",
    "df.loc[df.um =='50 KG',['um','mm']] = df[df['um']=='50 KG']['mm']/50\n",
    "df.loc[df.um =='160 KG',['um','mm']] = df[df['um']=='160 KG']['mm']/160\n",
    "df.loc[df.um =='45 KG',['um','mm']] = df[df['um']=='45 KG']['mm']/45\n",
    "df.loc[df.um =='68 KG',['um','mm']] = df[df['um']=='68 KG']['mm']/68\n",
    "df.loc[df.um =='109 KG',['um','mm']] = df[df['um']=='109 KG']['mm']/109\n",
    "df.loc[df.um =='91 KG',['um','mm']] = df[df['um']=='91 KG']['mm']/91\n",
    "df.loc[df.um =='93 KG',['um','mm']] = df[df['um']=='93 KG']['mm']/93\n",
    "df.loc[df.um =='10 KG',['um','mm']] = df[df['um']=='10 KG']['mm']/10\n",
    "df.loc[df.um =='250 KG',['um','mm']] = df[df['um']=='250 KG']['mm']/250\n",
    "df.loc[df.um =='73 KG',['um','mm']] = df[df['um']=='73 KG']['mm']/73\n",
    "df.loc[df.um =='84 KG',['um','mm']] = df[df['um']=='84 KG']['mm']/84\n",
    "df.loc[df.um =='52 KG',['um','mm']] = df[df['um']=='52 KG']['mm']/52\n",
    "df.loc[df.um =='27 KG',['um','mm']] = df[df['um']=='27 KG']['mm']/27\n",
    "df.loc[df.um =='16 KG',['um','mm']] = df[df['um']=='16 KG']['mm']/16\n",
    "df.loc[df.um =='1.8 KG',['um','mm']] = df[df['um']=='1.8 KG']['mm']/1.8\n",
    "df.loc[df.um =='2 KG',['um','mm']] = df[df['um']=='2 KG']['mm']/2\n",
    "df.loc[df.um =='3.4 KG',['um','mm']] = df[df['um']=='3.4 KG']['mm']/3.4\n",
    "df.loc[df.um =='0.5 KG',['um','mm']] = df[df['um']=='0.5 KG']['mm']/0.5\n",
    "df.loc[df.um =='1.1 KG',['um','mm']] = df[df['um']=='1.1 KG']['mm']/1.1\n",
    "df.loc[df.um =='2.1 KG',['um','mm']] = df[df['um']=='2.1 KG']['mm']/2.1\n",
    "df.loc[df.um =='1.2 KG',['um','mm']] = df[df['um']=='1.2 KG']['mm']/1.2\n",
    "df.loc[df.um =='3.1 KG',['um','mm']] = df[df['um']=='3.1 KG']['mm']/3.1\n",
    "df.loc[df.um =='3.5 KG',['um','mm']] = df[df['um']=='3.5 KG']['mm']/3.5\n",
    "df.loc[df.um =='LCU/3.5kg',['um','mm']] = df[df['um']=='LCU/3.5kg']['mm']/3.5\n",
    "df.loc[df.um =='25 KG',['um','mm']] = df[df['um']=='25 KG']['mm']/25\n",
    "df.loc[df.um =='60 KG',['um','mm']] = df[df['um']=='60 KG']['mm']/60\n",
    "df.loc[df.um =='3 KG',['um','mm']] = df[df['um']=='3 KG']['mm']/3\n",
    "df.loc[df.um =='2.5 KG',['um','mm']] = df[df['um']=='2.5 KG']['mm']/2.5\n",
    "df.loc[df.um =='11 KG',['um','mm']] = df[df['um']=='11 KG']['mm']/11\n",
    "df.loc[df.um =='1.6 KG',['um','mm']] = df[df['um']=='1.6 KG']['mm']/1.6\n",
    "df.loc[df.um =='1.4 KG',['um','mm']] = df[df['um']=='1.4 KG']['mm']/1.4\n",
    "df.loc[df.um =='1.5 KG',['um','mm']] = df[df['um']=='1.5 KG']['mm']/1.5\n",
    "df.loc[df.um =='0.8 KG',['um','mm']] = df[df['um']=='0.8 KG']['mm']/0.8\n",
    "df.loc[df.um =='2.25 KG',['um','mm']] = df[df['um']=='2.25 KG']['mm']/2.25\n",
    "df.loc[df.um =='12.5 KG',['um','mm']] = df[df['um']=='12.5 KG']['mm']/12.5\n",
    "df.loc[df.um =='1.3 KG',['um','mm']] = df[df['um']=='1.3 KG']['mm']/1.3"
   ]
  },
  {
   "cell_type": "code",
   "execution_count": 46,
   "id": "1c182230",
   "metadata": {},
   "outputs": [
    {
     "name": "stdout",
     "output_type": "stream",
     "text": [
      "<class 'pandas.core.frame.DataFrame'>\n",
      "Int64Index: 1963959 entries, 0 to 2050637\n",
      "Data columns (total 14 columns):\n",
      " #   Column     Dtype  \n",
      "---  ------     -----  \n",
      " 0   adm0_id    float64\n",
      " 1   adm0_name  object \n",
      " 2   adm1_id    int64  \n",
      " 3   cm_name    object \n",
      " 4   cur_id     float64\n",
      " 5   cur_name   object \n",
      " 6   pt_id      int64  \n",
      " 7   pt_name    object \n",
      " 8   um_name    object \n",
      " 9   mp_month   int64  \n",
      " 10  mp_year    int64  \n",
      " 11  mp_price   float64\n",
      " 12  mm         object \n",
      " 13  um         object \n",
      "dtypes: float64(3), int64(4), object(7)\n",
      "memory usage: 224.8+ MB\n"
     ]
    }
   ],
   "source": [
    "df.info()"
   ]
  },
  {
   "cell_type": "code",
   "execution_count": 47,
   "id": "d8d5ab56",
   "metadata": {},
   "outputs": [],
   "source": [
    "df['mm'] = pd.to_numeric(df['mm'],errors = 'coerce')"
   ]
  },
  {
   "cell_type": "code",
   "execution_count": 49,
   "id": "03e30991",
   "metadata": {},
   "outputs": [
    {
     "data": {
      "text/html": [
       "<div>\n",
       "<style scoped>\n",
       "    .dataframe tbody tr th:only-of-type {\n",
       "        vertical-align: middle;\n",
       "    }\n",
       "\n",
       "    .dataframe tbody tr th {\n",
       "        vertical-align: top;\n",
       "    }\n",
       "\n",
       "    .dataframe thead th {\n",
       "        text-align: right;\n",
       "    }\n",
       "</style>\n",
       "<table border=\"1\" class=\"dataframe\">\n",
       "  <thead>\n",
       "    <tr style=\"text-align: right;\">\n",
       "      <th></th>\n",
       "      <th>adm0_id</th>\n",
       "      <th>adm0_name</th>\n",
       "      <th>adm1_id</th>\n",
       "      <th>cm_name</th>\n",
       "      <th>cur_id</th>\n",
       "      <th>cur_name</th>\n",
       "      <th>pt_id</th>\n",
       "      <th>pt_name</th>\n",
       "      <th>um_name</th>\n",
       "      <th>mp_month</th>\n",
       "      <th>mp_year</th>\n",
       "      <th>mp_price</th>\n",
       "      <th>mm</th>\n",
       "      <th>um</th>\n",
       "    </tr>\n",
       "  </thead>\n",
       "  <tbody>\n",
       "    <tr>\n",
       "      <th>2050633</th>\n",
       "      <td>271.0</td>\n",
       "      <td>Zimbabwe</td>\n",
       "      <td>3444</td>\n",
       "      <td>Beans (sugar) - Retail</td>\n",
       "      <td>0.0</td>\n",
       "      <td>ZWL</td>\n",
       "      <td>15</td>\n",
       "      <td>Retail</td>\n",
       "      <td>KG</td>\n",
       "      <td>6</td>\n",
       "      <td>2021</td>\n",
       "      <td>0.63000</td>\n",
       "      <td>0.63000</td>\n",
       "      <td>KG</td>\n",
       "    </tr>\n",
       "    <tr>\n",
       "      <th>2050634</th>\n",
       "      <td>271.0</td>\n",
       "      <td>Zimbabwe</td>\n",
       "      <td>3444</td>\n",
       "      <td>Toothpaste - Retail</td>\n",
       "      <td>0.0</td>\n",
       "      <td>ZWL</td>\n",
       "      <td>15</td>\n",
       "      <td>Retail</td>\n",
       "      <td>100 ML</td>\n",
       "      <td>6</td>\n",
       "      <td>2021</td>\n",
       "      <td>0.30375</td>\n",
       "      <td>0.30375</td>\n",
       "      <td>100 ML</td>\n",
       "    </tr>\n",
       "    <tr>\n",
       "      <th>2050635</th>\n",
       "      <td>271.0</td>\n",
       "      <td>Zimbabwe</td>\n",
       "      <td>3444</td>\n",
       "      <td>Laundry soap - Retail</td>\n",
       "      <td>0.0</td>\n",
       "      <td>ZWL</td>\n",
       "      <td>15</td>\n",
       "      <td>Retail</td>\n",
       "      <td>KG</td>\n",
       "      <td>6</td>\n",
       "      <td>2021</td>\n",
       "      <td>0.30780</td>\n",
       "      <td>0.30780</td>\n",
       "      <td>KG</td>\n",
       "    </tr>\n",
       "    <tr>\n",
       "      <th>2050636</th>\n",
       "      <td>271.0</td>\n",
       "      <td>Zimbabwe</td>\n",
       "      <td>3444</td>\n",
       "      <td>Handwash soap - Retail</td>\n",
       "      <td>0.0</td>\n",
       "      <td>ZWL</td>\n",
       "      <td>15</td>\n",
       "      <td>Retail</td>\n",
       "      <td>250 G</td>\n",
       "      <td>6</td>\n",
       "      <td>2021</td>\n",
       "      <td>0.16065</td>\n",
       "      <td>0.64260</td>\n",
       "      <td>0.6426</td>\n",
       "    </tr>\n",
       "    <tr>\n",
       "      <th>2050637</th>\n",
       "      <td>271.0</td>\n",
       "      <td>Zimbabwe</td>\n",
       "      <td>3444</td>\n",
       "      <td>Fish (kapenta) - Retail</td>\n",
       "      <td>0.0</td>\n",
       "      <td>ZWL</td>\n",
       "      <td>15</td>\n",
       "      <td>Retail</td>\n",
       "      <td>KG</td>\n",
       "      <td>6</td>\n",
       "      <td>2021</td>\n",
       "      <td>3.24000</td>\n",
       "      <td>3.24000</td>\n",
       "      <td>KG</td>\n",
       "    </tr>\n",
       "  </tbody>\n",
       "</table>\n",
       "</div>"
      ],
      "text/plain": [
       "         adm0_id adm0_name  adm1_id                  cm_name  cur_id cur_name  \\\n",
       "2050633    271.0  Zimbabwe     3444   Beans (sugar) - Retail     0.0      ZWL   \n",
       "2050634    271.0  Zimbabwe     3444      Toothpaste - Retail     0.0      ZWL   \n",
       "2050635    271.0  Zimbabwe     3444    Laundry soap - Retail     0.0      ZWL   \n",
       "2050636    271.0  Zimbabwe     3444   Handwash soap - Retail     0.0      ZWL   \n",
       "2050637    271.0  Zimbabwe     3444  Fish (kapenta) - Retail     0.0      ZWL   \n",
       "\n",
       "         pt_id pt_name um_name  mp_month  mp_year  mp_price       mm      um  \n",
       "2050633     15  Retail      KG         6     2021   0.63000  0.63000      KG  \n",
       "2050634     15  Retail  100 ML         6     2021   0.30375  0.30375  100 ML  \n",
       "2050635     15  Retail      KG         6     2021   0.30780  0.30780      KG  \n",
       "2050636     15  Retail   250 G         6     2021   0.16065  0.64260  0.6426  \n",
       "2050637     15  Retail      KG         6     2021   3.24000  3.24000      KG  "
      ]
     },
     "execution_count": 49,
     "metadata": {},
     "output_type": "execute_result"
    }
   ],
   "source": [
    "df.tail()"
   ]
  },
  {
   "cell_type": "code",
   "execution_count": 50,
   "id": "95fec04d",
   "metadata": {},
   "outputs": [],
   "source": [
    "#since all prices are converted to dollar, currency related columns are not needed anymore\n",
    "df=df.drop(['cur_id', 'cur_name'], axis = 1)"
   ]
  },
  {
   "cell_type": "code",
   "execution_count": 51,
   "id": "83023dbf",
   "metadata": {},
   "outputs": [],
   "source": [
    "df.loc[df.um =='Pound',['um','mm']] = df[df['um']=='Pound']['mm']/0.453592\n",
    "df.loc[df.um =='50 Pounds',['um','mm']] = df[df['um']=='50 Pounds']['mm']/0.453592/50\n",
    "df.loc[df.um =='Cuartilla',['um','mm']] = df[df['um']=='Cuartilla']['mm']/2.88\n",
    "df.loc[df.um =='Libra',['um','mm']] = df[df['um']=='Libra']['mm']/1\n",
    "df.loc[df.um =='Sack',['um','mm']] = df[df['um']=='Sack']['mm']/98\n",
    "df.loc[df.um =='MT',['um','mm']] = df[df['um']=='MT']['mm']/1000\n",
    "df.loc[df.um =='Gallon',['um','mm']] = df[df['um']=='Gallon']['mm']/3.78\n",
    "df.loc[df.um =='100 Pounds',['um','mm']] = df[df['um']=='100 Pounds']['mm']/0.453592/100\n",
    "df.loc[df.um =='L',['um','mm']] = df[df['um']=='L']['mm']/1\n",
    "df.loc[df.um =='5 L',['um','mm']] = df[df['um']=='5 L']['mm']/5\n",
    "df.loc[df.um =='20 L',['um','mm']] = df[df['um']=='20 L']['mm']/20\n",
    "df.loc[df.um =='1.5 L',['um','mm']] = df[df['um']=='1.5 L']['mm']/1.5\n",
    "df.loc[df.um =='500 ML',['um','mm']] = df[df['um']=='500 ML']['mm']/0.5\n",
    "df.loc[df.um =='750 ML',['um','mm']] = df[df['um']=='750 ML']['mm']/0.75\n",
    "df.loc[df.um =='150 ml',['um','mm']] = df[df['um']=='150 ml']['mm']/0.15\n",
    "df.loc[df.um =='1.8 L',['um','mm']] = df[df['um']=='1.8 L']['mm']/1.8\n",
    "df.loc[df.um =='200 ML',['um','mm']] = df[df['um']=='200 ML']['mm']/0.2\n",
    "df.loc[df.um =='100 ML',['um','mm']] = df[df['um']=='100 ML']['mm']/0.1\n",
    "df.loc[df.um =='250 ML',['um','mm']] = df[df['um']=='250 ML']['mm']/0.25\n",
    "df.loc[df.um =='100 L',['um','mm']] = df[df['um']=='100 L']['mm']/100\n",
    "df.loc[df.um =='3 L',['um','mm']] = df[df['um']=='3 L']['mm']/3\n",
    "df.loc[df.um =='900 ML',['um','mm']] = df[df['um']=='900 ML']['mm']/0.9\n",
    "df.loc[df.um =='50 ML',['um','mm']] = df[df['um']=='50 ML']['mm']/0.05\n",
    "df.loc[df.um == '1 piece', ['um','mp_price']] = df[df['um']=='1 piece']['mp_price']/1\n",
    "df.loc[df.um =='360 pcs',['um','mm']] = df[df['um']=='360 pcs']['mm']/360\n",
    "df.loc[df.um =='50 pcs',['um','mm']] = df[df['um']=='50 pcs']['mm']/50\n",
    "df.loc[df.um =='100 pcs',['um','mm']] = df[df['um']=='100 pcs']['mm']/100\n",
    "df.loc[df.um =='4 pcs',['um','mm']] = df[df['um']=='4 pcs']['mm']/4\n",
    "df.loc[df.um =='5 pcs',['um','mm']] = df[df['um']=='5 pcs']['mm']/5\n",
    "df.loc[df.um =='28 pcs',['um','mm']] = df[df['um']=='28 pcs']['mm']/28\n",
    "df.loc[df.um =='Packet','um']= df[df['um']=='Packet']['mp_price']\n",
    "df.loc[df.um =='Loaf','um']= df[df['um']=='Loaf']['mp_price']\n",
    "df.loc[df.um =='Package','um']= df[df['um']=='Package']['mp_price']\n",
    "df.loc[df.um =='100 Tubers','um']= df[df['um']=='100 Tubers']['mp_price']\n",
    "df.loc[df.um =='Pair','um']= df[df['um']=='Pair']['mp_price']\n",
    "df.loc[df.um =='Bar','um']= df[df['um']=='Bar']['mp_price']"
   ]
  },
  {
   "cell_type": "code",
   "execution_count": 52,
   "id": "36f3b9a9",
   "metadata": {},
   "outputs": [
    {
     "data": {
      "text/html": [
       "<div>\n",
       "<style scoped>\n",
       "    .dataframe tbody tr th:only-of-type {\n",
       "        vertical-align: middle;\n",
       "    }\n",
       "\n",
       "    .dataframe tbody tr th {\n",
       "        vertical-align: top;\n",
       "    }\n",
       "\n",
       "    .dataframe thead th {\n",
       "        text-align: right;\n",
       "    }\n",
       "</style>\n",
       "<table border=\"1\" class=\"dataframe\">\n",
       "  <thead>\n",
       "    <tr style=\"text-align: right;\">\n",
       "      <th></th>\n",
       "      <th>adm0_id</th>\n",
       "      <th>adm0_name</th>\n",
       "      <th>adm1_id</th>\n",
       "      <th>cm_name</th>\n",
       "      <th>pt_id</th>\n",
       "      <th>pt_name</th>\n",
       "      <th>um_name</th>\n",
       "      <th>mp_month</th>\n",
       "      <th>mp_year</th>\n",
       "      <th>mp_price</th>\n",
       "      <th>mm</th>\n",
       "      <th>um</th>\n",
       "    </tr>\n",
       "  </thead>\n",
       "  <tbody>\n",
       "    <tr>\n",
       "      <th>2050633</th>\n",
       "      <td>271.0</td>\n",
       "      <td>Zimbabwe</td>\n",
       "      <td>3444</td>\n",
       "      <td>Beans (sugar) - Retail</td>\n",
       "      <td>15</td>\n",
       "      <td>Retail</td>\n",
       "      <td>KG</td>\n",
       "      <td>6</td>\n",
       "      <td>2021</td>\n",
       "      <td>0.63000</td>\n",
       "      <td>0.6300</td>\n",
       "      <td>KG</td>\n",
       "    </tr>\n",
       "    <tr>\n",
       "      <th>2050634</th>\n",
       "      <td>271.0</td>\n",
       "      <td>Zimbabwe</td>\n",
       "      <td>3444</td>\n",
       "      <td>Toothpaste - Retail</td>\n",
       "      <td>15</td>\n",
       "      <td>Retail</td>\n",
       "      <td>100 ML</td>\n",
       "      <td>6</td>\n",
       "      <td>2021</td>\n",
       "      <td>0.30375</td>\n",
       "      <td>3.0375</td>\n",
       "      <td>3.0375</td>\n",
       "    </tr>\n",
       "    <tr>\n",
       "      <th>2050635</th>\n",
       "      <td>271.0</td>\n",
       "      <td>Zimbabwe</td>\n",
       "      <td>3444</td>\n",
       "      <td>Laundry soap - Retail</td>\n",
       "      <td>15</td>\n",
       "      <td>Retail</td>\n",
       "      <td>KG</td>\n",
       "      <td>6</td>\n",
       "      <td>2021</td>\n",
       "      <td>0.30780</td>\n",
       "      <td>0.3078</td>\n",
       "      <td>KG</td>\n",
       "    </tr>\n",
       "    <tr>\n",
       "      <th>2050636</th>\n",
       "      <td>271.0</td>\n",
       "      <td>Zimbabwe</td>\n",
       "      <td>3444</td>\n",
       "      <td>Handwash soap - Retail</td>\n",
       "      <td>15</td>\n",
       "      <td>Retail</td>\n",
       "      <td>250 G</td>\n",
       "      <td>6</td>\n",
       "      <td>2021</td>\n",
       "      <td>0.16065</td>\n",
       "      <td>0.6426</td>\n",
       "      <td>0.6426</td>\n",
       "    </tr>\n",
       "    <tr>\n",
       "      <th>2050637</th>\n",
       "      <td>271.0</td>\n",
       "      <td>Zimbabwe</td>\n",
       "      <td>3444</td>\n",
       "      <td>Fish (kapenta) - Retail</td>\n",
       "      <td>15</td>\n",
       "      <td>Retail</td>\n",
       "      <td>KG</td>\n",
       "      <td>6</td>\n",
       "      <td>2021</td>\n",
       "      <td>3.24000</td>\n",
       "      <td>3.2400</td>\n",
       "      <td>KG</td>\n",
       "    </tr>\n",
       "  </tbody>\n",
       "</table>\n",
       "</div>"
      ],
      "text/plain": [
       "         adm0_id adm0_name  adm1_id                  cm_name  pt_id pt_name  \\\n",
       "2050633    271.0  Zimbabwe     3444   Beans (sugar) - Retail     15  Retail   \n",
       "2050634    271.0  Zimbabwe     3444      Toothpaste - Retail     15  Retail   \n",
       "2050635    271.0  Zimbabwe     3444    Laundry soap - Retail     15  Retail   \n",
       "2050636    271.0  Zimbabwe     3444   Handwash soap - Retail     15  Retail   \n",
       "2050637    271.0  Zimbabwe     3444  Fish (kapenta) - Retail     15  Retail   \n",
       "\n",
       "        um_name  mp_month  mp_year  mp_price      mm      um  \n",
       "2050633      KG         6     2021   0.63000  0.6300      KG  \n",
       "2050634  100 ML         6     2021   0.30375  3.0375  3.0375  \n",
       "2050635      KG         6     2021   0.30780  0.3078      KG  \n",
       "2050636   250 G         6     2021   0.16065  0.6426  0.6426  \n",
       "2050637      KG         6     2021   3.24000  3.2400      KG  "
      ]
     },
     "execution_count": 52,
     "metadata": {},
     "output_type": "execute_result"
    }
   ],
   "source": [
    "df.tail()"
   ]
  },
  {
   "cell_type": "code",
   "execution_count": 53,
   "id": "85064e9e",
   "metadata": {},
   "outputs": [],
   "source": [
    "df.rename(columns={'adm0_id': 'country_id', 'adm0_name': 'country_name', 'adm1_id': 'locality_id', 'cm_name': 'commodity_purchased',\n",
    "                   'pt_name': 'market_type' , 'um_name': 'unit_of_measurement',\n",
    "                   'mp_month': 'month_recorded', 'mp_year': 'year_recorded',\n",
    "                  'mp_price': 'price_paid', 'mm': 'price_in_baseCurrencyAndUnit',\n",
    "                  'um': 'price_in_baseUnit'}, inplace=True)"
   ]
  },
  {
   "cell_type": "code",
   "execution_count": 54,
   "id": "d200e5c9",
   "metadata": {},
   "outputs": [
    {
     "data": {
      "text/html": [
       "<div>\n",
       "<style scoped>\n",
       "    .dataframe tbody tr th:only-of-type {\n",
       "        vertical-align: middle;\n",
       "    }\n",
       "\n",
       "    .dataframe tbody tr th {\n",
       "        vertical-align: top;\n",
       "    }\n",
       "\n",
       "    .dataframe thead th {\n",
       "        text-align: right;\n",
       "    }\n",
       "</style>\n",
       "<table border=\"1\" class=\"dataframe\">\n",
       "  <thead>\n",
       "    <tr style=\"text-align: right;\">\n",
       "      <th></th>\n",
       "      <th>country_id</th>\n",
       "      <th>country_name</th>\n",
       "      <th>locality_id</th>\n",
       "      <th>commodity_purchased</th>\n",
       "      <th>pt_id</th>\n",
       "      <th>market_type</th>\n",
       "      <th>unit_of_measurement</th>\n",
       "      <th>month_recorded</th>\n",
       "      <th>year_recorded</th>\n",
       "      <th>price_paid</th>\n",
       "      <th>price_in_baseCurrencyAndUnit</th>\n",
       "      <th>price_in_baseUnit</th>\n",
       "    </tr>\n",
       "  </thead>\n",
       "  <tbody>\n",
       "    <tr>\n",
       "      <th>2050633</th>\n",
       "      <td>271.0</td>\n",
       "      <td>Zimbabwe</td>\n",
       "      <td>3444</td>\n",
       "      <td>Beans (sugar) - Retail</td>\n",
       "      <td>15</td>\n",
       "      <td>Retail</td>\n",
       "      <td>KG</td>\n",
       "      <td>6</td>\n",
       "      <td>2021</td>\n",
       "      <td>0.63000</td>\n",
       "      <td>0.6300</td>\n",
       "      <td>KG</td>\n",
       "    </tr>\n",
       "    <tr>\n",
       "      <th>2050634</th>\n",
       "      <td>271.0</td>\n",
       "      <td>Zimbabwe</td>\n",
       "      <td>3444</td>\n",
       "      <td>Toothpaste - Retail</td>\n",
       "      <td>15</td>\n",
       "      <td>Retail</td>\n",
       "      <td>100 ML</td>\n",
       "      <td>6</td>\n",
       "      <td>2021</td>\n",
       "      <td>0.30375</td>\n",
       "      <td>3.0375</td>\n",
       "      <td>3.0375</td>\n",
       "    </tr>\n",
       "    <tr>\n",
       "      <th>2050635</th>\n",
       "      <td>271.0</td>\n",
       "      <td>Zimbabwe</td>\n",
       "      <td>3444</td>\n",
       "      <td>Laundry soap - Retail</td>\n",
       "      <td>15</td>\n",
       "      <td>Retail</td>\n",
       "      <td>KG</td>\n",
       "      <td>6</td>\n",
       "      <td>2021</td>\n",
       "      <td>0.30780</td>\n",
       "      <td>0.3078</td>\n",
       "      <td>KG</td>\n",
       "    </tr>\n",
       "    <tr>\n",
       "      <th>2050636</th>\n",
       "      <td>271.0</td>\n",
       "      <td>Zimbabwe</td>\n",
       "      <td>3444</td>\n",
       "      <td>Handwash soap - Retail</td>\n",
       "      <td>15</td>\n",
       "      <td>Retail</td>\n",
       "      <td>250 G</td>\n",
       "      <td>6</td>\n",
       "      <td>2021</td>\n",
       "      <td>0.16065</td>\n",
       "      <td>0.6426</td>\n",
       "      <td>0.6426</td>\n",
       "    </tr>\n",
       "    <tr>\n",
       "      <th>2050637</th>\n",
       "      <td>271.0</td>\n",
       "      <td>Zimbabwe</td>\n",
       "      <td>3444</td>\n",
       "      <td>Fish (kapenta) - Retail</td>\n",
       "      <td>15</td>\n",
       "      <td>Retail</td>\n",
       "      <td>KG</td>\n",
       "      <td>6</td>\n",
       "      <td>2021</td>\n",
       "      <td>3.24000</td>\n",
       "      <td>3.2400</td>\n",
       "      <td>KG</td>\n",
       "    </tr>\n",
       "  </tbody>\n",
       "</table>\n",
       "</div>"
      ],
      "text/plain": [
       "         country_id country_name  locality_id      commodity_purchased  pt_id  \\\n",
       "2050633       271.0     Zimbabwe         3444   Beans (sugar) - Retail     15   \n",
       "2050634       271.0     Zimbabwe         3444      Toothpaste - Retail     15   \n",
       "2050635       271.0     Zimbabwe         3444    Laundry soap - Retail     15   \n",
       "2050636       271.0     Zimbabwe         3444   Handwash soap - Retail     15   \n",
       "2050637       271.0     Zimbabwe         3444  Fish (kapenta) - Retail     15   \n",
       "\n",
       "        market_type unit_of_measurement  month_recorded  year_recorded  \\\n",
       "2050633      Retail                  KG               6           2021   \n",
       "2050634      Retail              100 ML               6           2021   \n",
       "2050635      Retail                  KG               6           2021   \n",
       "2050636      Retail               250 G               6           2021   \n",
       "2050637      Retail                  KG               6           2021   \n",
       "\n",
       "         price_paid  price_in_baseCurrencyAndUnit price_in_baseUnit  \n",
       "2050633     0.63000                        0.6300                KG  \n",
       "2050634     0.30375                        3.0375            3.0375  \n",
       "2050635     0.30780                        0.3078                KG  \n",
       "2050636     0.16065                        0.6426            0.6426  \n",
       "2050637     3.24000                        3.2400                KG  "
      ]
     },
     "execution_count": 54,
     "metadata": {},
     "output_type": "execute_result"
    }
   ],
   "source": [
    "df.tail()"
   ]
  },
  {
   "cell_type": "code",
   "execution_count": 55,
   "id": "cdfba6d1",
   "metadata": {},
   "outputs": [],
   "source": [
    "df=df.drop(['price_in_baseUnit'], axis = 1)"
   ]
  },
  {
   "cell_type": "code",
   "execution_count": 57,
   "id": "0372e3a5",
   "metadata": {},
   "outputs": [
    {
     "data": {
      "text/plain": [
       "array(['KG', 'L', 'USD/LCU', '30 pcs', '500 G', '125 G', 'Packet',\n",
       "       '900 G', '50 Pounds', '100 KG', '46 KG', '11.5 KG', 'Pound',\n",
       "       'Cuartilla', 'Libra', '5 L', '10 pcs', '90 KG', '1 piece', '400 G',\n",
       "       '15 KG', '5 KG', '12 KG', '20 KG', '120 KG', '20 L', '18 KG',\n",
       "       '50 KG', '160 KG', '1.5 L', 'Sack', 'Package', 'MT', '85 G',\n",
       "       'Gallon', '380 G', '500 ML', '100 Pounds', '168 G', '45 KG',\n",
       "       '70 G', '200 G', '68 KG', '109 KG', '91 KG', '93 KG', '10 KG',\n",
       "       '250 KG', '100 Tubers', '73 KG', '84 KG', '52 KG', '27 KG',\n",
       "       '16 KG', '650 G', '750 ML', '115 G', '360 pcs', '50 pcs',\n",
       "       '100 pcs', '350 G', '385 G', '1.8 KG', '4 pcs', '150 ml', '2 KG',\n",
       "       '1.8 L', '170 G', '1.5 KG', '300 G', '0.8 KG', '160 G', '750 G',\n",
       "       '12.5 KG', '200 ML', '150 G', '1.3 KG', '185 G', 'Loaf', '2.25 KG',\n",
       "       '5 pcs', '250 G', '11 KG', '100 ML', 'Bar', '250 ML', '1.6 KG',\n",
       "       'Dozen', '100 L', '1.4 KG', '20 G', '3.4 KG', '0.5 KG', '1.1 KG',\n",
       "       '2.1 KG', '1.2 KG', '3.1 KG', '3.5 KG', 'LCU/3.5kg', '25 KG',\n",
       "       '3 L', '60 KG', '3 KG', '2.5 KG', '700 G', '800 G', '28 pcs',\n",
       "       '900 ML', '50 ML', 'Pair'], dtype=object)"
      ]
     },
     "execution_count": 57,
     "metadata": {},
     "output_type": "execute_result"
    }
   ],
   "source": [
    "df.unit_of_measurement.unique()"
   ]
  },
  {
   "cell_type": "code",
   "execution_count": 59,
   "id": "5211bcd7",
   "metadata": {},
   "outputs": [
    {
     "data": {
      "text/plain": [
       "(1963959, 11)"
      ]
     },
     "execution_count": 59,
     "metadata": {},
     "output_type": "execute_result"
    }
   ],
   "source": [
    "df.shape"
   ]
  },
  {
   "cell_type": "code",
   "execution_count": 61,
   "id": "ae88cd72",
   "metadata": {},
   "outputs": [],
   "source": [
    "#drop duplicates since we don't need them in our study\n",
    "df = df.drop_duplicates(['country_id','locality_id','commodity_purchased','market_type','unit_of_measurement','month_recorded','year_recorded','price_in_baseCurrencyAndUnit'], keep='first')\n"
   ]
  },
  {
   "cell_type": "code",
   "execution_count": 62,
   "id": "6be5eccb",
   "metadata": {},
   "outputs": [
    {
     "data": {
      "text/plain": [
       "(1342093, 11)"
      ]
     },
     "execution_count": 62,
     "metadata": {},
     "output_type": "execute_result"
    }
   ],
   "source": [
    "df.shape"
   ]
  },
  {
   "cell_type": "code",
   "execution_count": 63,
   "id": "c6eadfa1",
   "metadata": {},
   "outputs": [],
   "source": [
    "from matplotlib import pyplot as plt"
   ]
  },
  {
   "cell_type": "code",
   "execution_count": 67,
   "id": "f79091db",
   "metadata": {},
   "outputs": [
    {
     "data": {
      "image/png": "[encoded data removed]",
      "text/plain": [
       "<Figure size 432x288 with 1 Axes>"
      ]
     },
     "metadata": {
      "needs_background": "light"
     },
     "output_type": "display_data"
    }
   ],
   "source": [
    "plt.plot(df.commodity_purchased,df.price_in_baseCurrencyAndUnit, 'o', markersize=2,alpha=0.3)\n",
    "plt.show()"
   ]
  },
  {
   "cell_type": "code",
   "execution_count": 72,
   "id": "b5dab71a",
   "metadata": {},
   "outputs": [],
   "source": [
    "sample = df.sample(frac=0.1)"
   ]
  },
  {
   "cell_type": "code",
   "execution_count": 73,
   "id": "60f33b30",
   "metadata": {},
   "outputs": [
    {
     "data": {
      "image/png": "[encoded data removed]",
      "text/plain": [
       "<Figure size 432x288 with 1 Axes>"
      ]
     },
     "metadata": {
      "needs_background": "light"
     },
     "output_type": "display_data"
    }
   ],
   "source": [
    "plt.plot(sample.commodity_purchased,sample.price_in_baseCurrencyAndUnit, 'o', markersize=2,alpha=0.3)\n",
    "plt.show()"
   ]
  },
  {
   "cell_type": "code",
   "execution_count": 77,
   "id": "b7d6cf39",
   "metadata": {},
   "outputs": [],
   "source": [
    "sample=sample.drop(['unit_of_measurement'], axis = 1)"
   ]
  },
  {
   "cell_type": "code",
   "execution_count": 78,
   "id": "0800c5f4",
   "metadata": {},
   "outputs": [
    {
     "data": {
      "text/plain": [
       "(134209, 10)"
      ]
     },
     "execution_count": 78,
     "metadata": {},
     "output_type": "execute_result"
    }
   ],
   "source": [
    "sample.shape"
   ]
  },
  {
   "cell_type": "code",
   "execution_count": 115,
   "id": "33a53e4d",
   "metadata": {},
   "outputs": [
    {
     "data": {
      "text/plain": [
       "10.19024786400001"
      ]
     },
     "execution_count": 115,
     "metadata": {},
     "output_type": "execute_result"
    }
   ],
   "source": [
    "#outliers detection\n",
    "max_threshold = sample['price_in_baseCurrencyAndUnit'].quantile(0.99)\n",
    "max_threshold"
   ]
  },
  {
   "cell_type": "code",
   "execution_count": 116,
   "id": "1bbe0a4b",
   "metadata": {},
   "outputs": [
    {
     "data": {
      "text/html": [
       "<div>\n",
       "<style scoped>\n",
       "    .dataframe tbody tr th:only-of-type {\n",
       "        vertical-align: middle;\n",
       "    }\n",
       "\n",
       "    .dataframe tbody tr th {\n",
       "        vertical-align: top;\n",
       "    }\n",
       "\n",
       "    .dataframe thead th {\n",
       "        text-align: right;\n",
       "    }\n",
       "</style>\n",
       "<table border=\"1\" class=\"dataframe\">\n",
       "  <thead>\n",
       "    <tr style=\"text-align: right;\">\n",
       "      <th></th>\n",
       "      <th>country_id</th>\n",
       "      <th>country_name</th>\n",
       "      <th>locality_id</th>\n",
       "      <th>commodity_purchased</th>\n",
       "      <th>pt_id</th>\n",
       "      <th>market_type</th>\n",
       "      <th>month_recorded</th>\n",
       "      <th>year_recorded</th>\n",
       "      <th>price_paid</th>\n",
       "      <th>price_in_baseCurrencyAndUnit</th>\n",
       "    </tr>\n",
       "  </thead>\n",
       "  <tbody>\n",
       "    <tr>\n",
       "      <th>611903</th>\n",
       "      <td>94.0</td>\n",
       "      <td>Ghana</td>\n",
       "      <td>1324</td>\n",
       "      <td>Yam - Wholesale</td>\n",
       "      <td>14</td>\n",
       "      <td>Wholesale</td>\n",
       "      <td>7</td>\n",
       "      <td>2013</td>\n",
       "      <td>41.800000</td>\n",
       "      <td>41.800000</td>\n",
       "    </tr>\n",
       "    <tr>\n",
       "      <th>953378</th>\n",
       "      <td>141.0</td>\n",
       "      <td>Lebanon</td>\n",
       "      <td>1802</td>\n",
       "      <td>Milk (powder) - Retail</td>\n",
       "      <td>15</td>\n",
       "      <td>Retail</td>\n",
       "      <td>3</td>\n",
       "      <td>2020</td>\n",
       "      <td>9.443200</td>\n",
       "      <td>10.492444</td>\n",
       "    </tr>\n",
       "    <tr>\n",
       "      <th>318398</th>\n",
       "      <td>43.0</td>\n",
       "      <td>Burundi</td>\n",
       "      <td>40553</td>\n",
       "      <td>Fish (lates,dry,local) - Retail</td>\n",
       "      <td>15</td>\n",
       "      <td>Retail</td>\n",
       "      <td>2</td>\n",
       "      <td>2021</td>\n",
       "      <td>13.583333</td>\n",
       "      <td>13.583333</td>\n",
       "    </tr>\n",
       "    <tr>\n",
       "      <th>807814</th>\n",
       "      <td>130.0</td>\n",
       "      <td>Jordan</td>\n",
       "      <td>1711</td>\n",
       "      <td>Meat (lamb) - Retail</td>\n",
       "      <td>15</td>\n",
       "      <td>Retail</td>\n",
       "      <td>3</td>\n",
       "      <td>2019</td>\n",
       "      <td>14.687970</td>\n",
       "      <td>14.687970</td>\n",
       "    </tr>\n",
       "    <tr>\n",
       "      <th>953161</th>\n",
       "      <td>141.0</td>\n",
       "      <td>Lebanon</td>\n",
       "      <td>1802</td>\n",
       "      <td>Beans (white) - Retail</td>\n",
       "      <td>15</td>\n",
       "      <td>Retail</td>\n",
       "      <td>4</td>\n",
       "      <td>2021</td>\n",
       "      <td>14.102580</td>\n",
       "      <td>14.102580</td>\n",
       "    </tr>\n",
       "    <tr>\n",
       "      <th>...</th>\n",
       "      <td>...</td>\n",
       "      <td>...</td>\n",
       "      <td>...</td>\n",
       "      <td>...</td>\n",
       "      <td>...</td>\n",
       "      <td>...</td>\n",
       "      <td>...</td>\n",
       "      <td>...</td>\n",
       "      <td>...</td>\n",
       "      <td>...</td>\n",
       "    </tr>\n",
       "    <tr>\n",
       "      <th>913949</th>\n",
       "      <td>141.0</td>\n",
       "      <td>Lebanon</td>\n",
       "      <td>1797</td>\n",
       "      <td>Milk (powder) - Retail</td>\n",
       "      <td>15</td>\n",
       "      <td>Retail</td>\n",
       "      <td>9</td>\n",
       "      <td>2013</td>\n",
       "      <td>9.930556</td>\n",
       "      <td>11.033951</td>\n",
       "    </tr>\n",
       "    <tr>\n",
       "      <th>617863</th>\n",
       "      <td>94.0</td>\n",
       "      <td>Ghana</td>\n",
       "      <td>1325</td>\n",
       "      <td>Yam - Wholesale</td>\n",
       "      <td>14</td>\n",
       "      <td>Wholesale</td>\n",
       "      <td>10</td>\n",
       "      <td>2012</td>\n",
       "      <td>27.400000</td>\n",
       "      <td>27.400000</td>\n",
       "    </tr>\n",
       "    <tr>\n",
       "      <th>622440</th>\n",
       "      <td>94.0</td>\n",
       "      <td>Ghana</td>\n",
       "      <td>1327</td>\n",
       "      <td>Eggs - Wholesale</td>\n",
       "      <td>14</td>\n",
       "      <td>Wholesale</td>\n",
       "      <td>10</td>\n",
       "      <td>2020</td>\n",
       "      <td>54.176000</td>\n",
       "      <td>54.176000</td>\n",
       "    </tr>\n",
       "    <tr>\n",
       "      <th>799336</th>\n",
       "      <td>130.0</td>\n",
       "      <td>Jordan</td>\n",
       "      <td>1707</td>\n",
       "      <td>Meat (beef) - Retail</td>\n",
       "      <td>15</td>\n",
       "      <td>Retail</td>\n",
       "      <td>11</td>\n",
       "      <td>2017</td>\n",
       "      <td>12.130230</td>\n",
       "      <td>12.130230</td>\n",
       "    </tr>\n",
       "    <tr>\n",
       "      <th>923212</th>\n",
       "      <td>141.0</td>\n",
       "      <td>Lebanon</td>\n",
       "      <td>1798</td>\n",
       "      <td>Pasta (spaghetti) - Retail</td>\n",
       "      <td>15</td>\n",
       "      <td>Retail</td>\n",
       "      <td>4</td>\n",
       "      <td>2021</td>\n",
       "      <td>10.806509</td>\n",
       "      <td>10.806509</td>\n",
       "    </tr>\n",
       "  </tbody>\n",
       "</table>\n",
       "<p>792 rows × 10 columns</p>\n",
       "</div>"
      ],
      "text/plain": [
       "        country_id country_name  locality_id              commodity_purchased  \\\n",
       "611903        94.0        Ghana         1324                  Yam - Wholesale   \n",
       "953378       141.0      Lebanon         1802           Milk (powder) - Retail   \n",
       "318398        43.0      Burundi        40553  Fish (lates,dry,local) - Retail   \n",
       "807814       130.0       Jordan         1711             Meat (lamb) - Retail   \n",
       "953161       141.0      Lebanon         1802           Beans (white) - Retail   \n",
       "...            ...          ...          ...                              ...   \n",
       "913949       141.0      Lebanon         1797           Milk (powder) - Retail   \n",
       "617863        94.0        Ghana         1325                  Yam - Wholesale   \n",
       "622440        94.0        Ghana         1327                 Eggs - Wholesale   \n",
       "799336       130.0       Jordan         1707             Meat (beef) - Retail   \n",
       "923212       141.0      Lebanon         1798       Pasta (spaghetti) - Retail   \n",
       "\n",
       "        pt_id market_type  month_recorded  year_recorded  price_paid  \\\n",
       "611903     14   Wholesale               7           2013   41.800000   \n",
       "953378     15      Retail               3           2020    9.443200   \n",
       "318398     15      Retail               2           2021   13.583333   \n",
       "807814     15      Retail               3           2019   14.687970   \n",
       "953161     15      Retail               4           2021   14.102580   \n",
       "...       ...         ...             ...            ...         ...   \n",
       "913949     15      Retail               9           2013    9.930556   \n",
       "617863     14   Wholesale              10           2012   27.400000   \n",
       "622440     14   Wholesale              10           2020   54.176000   \n",
       "799336     15      Retail              11           2017   12.130230   \n",
       "923212     15      Retail               4           2021   10.806509   \n",
       "\n",
       "        price_in_baseCurrencyAndUnit  \n",
       "611903                     41.800000  \n",
       "953378                     10.492444  \n",
       "318398                     13.583333  \n",
       "807814                     14.687970  \n",
       "953161                     14.102580  \n",
       "...                              ...  \n",
       "913949                     11.033951  \n",
       "617863                     27.400000  \n",
       "622440                     54.176000  \n",
       "799336                     12.130230  \n",
       "923212                     10.806509  \n",
       "\n",
       "[792 rows x 10 columns]"
      ]
     },
     "execution_count": 116,
     "metadata": {},
     "output_type": "execute_result"
    }
   ],
   "source": [
    "sample[sample['price_in_baseCurrencyAndUnit']>max_threshold]"
   ]
  },
  {
   "cell_type": "code",
   "execution_count": 119,
   "id": "b4c91727",
   "metadata": {},
   "outputs": [
    {
     "data": {
      "text/plain": [
       "0.208"
      ]
     },
     "execution_count": 119,
     "metadata": {},
     "output_type": "execute_result"
    }
   ],
   "source": [
    "min_threshold = sample['price_in_baseCurrencyAndUnit'].quantile(0.1)\n",
    "min_threshold"
   ]
  },
  {
   "cell_type": "code",
   "execution_count": 120,
   "id": "86559450",
   "metadata": {},
   "outputs": [
    {
     "data": {
      "text/html": [
       "<div>\n",
       "<style scoped>\n",
       "    .dataframe tbody tr th:only-of-type {\n",
       "        vertical-align: middle;\n",
       "    }\n",
       "\n",
       "    .dataframe tbody tr th {\n",
       "        vertical-align: top;\n",
       "    }\n",
       "\n",
       "    .dataframe thead th {\n",
       "        text-align: right;\n",
       "    }\n",
       "</style>\n",
       "<table border=\"1\" class=\"dataframe\">\n",
       "  <thead>\n",
       "    <tr style=\"text-align: right;\">\n",
       "      <th></th>\n",
       "      <th>country_id</th>\n",
       "      <th>country_name</th>\n",
       "      <th>locality_id</th>\n",
       "      <th>commodity_purchased</th>\n",
       "      <th>pt_id</th>\n",
       "      <th>market_type</th>\n",
       "      <th>month_recorded</th>\n",
       "      <th>year_recorded</th>\n",
       "      <th>price_paid</th>\n",
       "      <th>price_in_baseCurrencyAndUnit</th>\n",
       "    </tr>\n",
       "  </thead>\n",
       "  <tbody>\n",
       "    <tr>\n",
       "      <th>102864</th>\n",
       "      <td>115.0</td>\n",
       "      <td>Bassas da India</td>\n",
       "      <td>1497</td>\n",
       "      <td>Wheat - Retail</td>\n",
       "      <td>15</td>\n",
       "      <td>Retail</td>\n",
       "      <td>12</td>\n",
       "      <td>1999</td>\n",
       "      <td>0.097500</td>\n",
       "      <td>0.097500</td>\n",
       "    </tr>\n",
       "    <tr>\n",
       "      <th>994985</th>\n",
       "      <td>145.0</td>\n",
       "      <td>Libya</td>\n",
       "      <td>1839</td>\n",
       "      <td>Salt - Retail</td>\n",
       "      <td>15</td>\n",
       "      <td>Retail</td>\n",
       "      <td>1</td>\n",
       "      <td>2019</td>\n",
       "      <td>0.179960</td>\n",
       "      <td>0.179960</td>\n",
       "    </tr>\n",
       "    <tr>\n",
       "      <th>324142</th>\n",
       "      <td>43.0</td>\n",
       "      <td>Burundi</td>\n",
       "      <td>40554</td>\n",
       "      <td>Tomatoes - Retail</td>\n",
       "      <td>15</td>\n",
       "      <td>Retail</td>\n",
       "      <td>9</td>\n",
       "      <td>2016</td>\n",
       "      <td>0.183500</td>\n",
       "      <td>0.183500</td>\n",
       "    </tr>\n",
       "    <tr>\n",
       "      <th>11799</th>\n",
       "      <td>1.0</td>\n",
       "      <td>Afghanistan</td>\n",
       "      <td>292</td>\n",
       "      <td>Bread - Retail</td>\n",
       "      <td>15</td>\n",
       "      <td>Retail</td>\n",
       "      <td>11</td>\n",
       "      <td>2020</td>\n",
       "      <td>0.006050</td>\n",
       "      <td>0.006050</td>\n",
       "    </tr>\n",
       "    <tr>\n",
       "      <th>1200492</th>\n",
       "      <td>171.0</td>\n",
       "      <td>Myanmar</td>\n",
       "      <td>2130</td>\n",
       "      <td>Potatoes - Retail</td>\n",
       "      <td>15</td>\n",
       "      <td>Retail</td>\n",
       "      <td>4</td>\n",
       "      <td>2010</td>\n",
       "      <td>0.207273</td>\n",
       "      <td>0.207273</td>\n",
       "    </tr>\n",
       "    <tr>\n",
       "      <th>...</th>\n",
       "      <td>...</td>\n",
       "      <td>...</td>\n",
       "      <td>...</td>\n",
       "      <td>...</td>\n",
       "      <td>...</td>\n",
       "      <td>...</td>\n",
       "      <td>...</td>\n",
       "      <td>...</td>\n",
       "      <td>...</td>\n",
       "      <td>...</td>\n",
       "    </tr>\n",
       "    <tr>\n",
       "      <th>626789</th>\n",
       "      <td>94.0</td>\n",
       "      <td>Ghana</td>\n",
       "      <td>1329</td>\n",
       "      <td>Maize - Wholesale</td>\n",
       "      <td>14</td>\n",
       "      <td>Wholesale</td>\n",
       "      <td>11</td>\n",
       "      <td>2010</td>\n",
       "      <td>5.760000</td>\n",
       "      <td>0.057600</td>\n",
       "    </tr>\n",
       "    <tr>\n",
       "      <th>638572</th>\n",
       "      <td>103.0</td>\n",
       "      <td>Guatemala</td>\n",
       "      <td>64821</td>\n",
       "      <td>Onions (white) - Wholesale</td>\n",
       "      <td>14</td>\n",
       "      <td>Wholesale</td>\n",
       "      <td>10</td>\n",
       "      <td>2018</td>\n",
       "      <td>4.269200</td>\n",
       "      <td>0.085384</td>\n",
       "    </tr>\n",
       "    <tr>\n",
       "      <th>51334</th>\n",
       "      <td>115.0</td>\n",
       "      <td>Bassas da India</td>\n",
       "      <td>1485</td>\n",
       "      <td>Potatoes - Retail</td>\n",
       "      <td>15</td>\n",
       "      <td>Retail</td>\n",
       "      <td>4</td>\n",
       "      <td>2012</td>\n",
       "      <td>0.186810</td>\n",
       "      <td>0.186810</td>\n",
       "    </tr>\n",
       "    <tr>\n",
       "      <th>93448</th>\n",
       "      <td>115.0</td>\n",
       "      <td>Bassas da India</td>\n",
       "      <td>1494</td>\n",
       "      <td>Tomatoes - Retail</td>\n",
       "      <td>15</td>\n",
       "      <td>Retail</td>\n",
       "      <td>6</td>\n",
       "      <td>2014</td>\n",
       "      <td>0.172250</td>\n",
       "      <td>0.172250</td>\n",
       "    </tr>\n",
       "    <tr>\n",
       "      <th>1009360</th>\n",
       "      <td>145.0</td>\n",
       "      <td>Libya</td>\n",
       "      <td>1848</td>\n",
       "      <td>Bread - Retail</td>\n",
       "      <td>15</td>\n",
       "      <td>Retail</td>\n",
       "      <td>7</td>\n",
       "      <td>2017</td>\n",
       "      <td>0.176000</td>\n",
       "      <td>0.035200</td>\n",
       "    </tr>\n",
       "  </tbody>\n",
       "</table>\n",
       "<p>7809 rows × 10 columns</p>\n",
       "</div>"
      ],
      "text/plain": [
       "         country_id     country_name  locality_id         commodity_purchased  \\\n",
       "102864        115.0  Bassas da India         1497              Wheat - Retail   \n",
       "994985        145.0            Libya         1839               Salt - Retail   \n",
       "324142         43.0          Burundi        40554           Tomatoes - Retail   \n",
       "11799           1.0      Afghanistan          292              Bread - Retail   \n",
       "1200492       171.0          Myanmar         2130           Potatoes - Retail   \n",
       "...             ...              ...          ...                         ...   \n",
       "626789         94.0            Ghana         1329           Maize - Wholesale   \n",
       "638572        103.0        Guatemala        64821  Onions (white) - Wholesale   \n",
       "51334         115.0  Bassas da India         1485           Potatoes - Retail   \n",
       "93448         115.0  Bassas da India         1494           Tomatoes - Retail   \n",
       "1009360       145.0            Libya         1848              Bread - Retail   \n",
       "\n",
       "         pt_id market_type  month_recorded  year_recorded  price_paid  \\\n",
       "102864      15      Retail              12           1999    0.097500   \n",
       "994985      15      Retail               1           2019    0.179960   \n",
       "324142      15      Retail               9           2016    0.183500   \n",
       "11799       15      Retail              11           2020    0.006050   \n",
       "1200492     15      Retail               4           2010    0.207273   \n",
       "...        ...         ...             ...            ...         ...   \n",
       "626789      14   Wholesale              11           2010    5.760000   \n",
       "638572      14   Wholesale              10           2018    4.269200   \n",
       "51334       15      Retail               4           2012    0.186810   \n",
       "93448       15      Retail               6           2014    0.172250   \n",
       "1009360     15      Retail               7           2017    0.176000   \n",
       "\n",
       "         price_in_baseCurrencyAndUnit  \n",
       "102864                       0.097500  \n",
       "994985                       0.179960  \n",
       "324142                       0.183500  \n",
       "11799                        0.006050  \n",
       "1200492                      0.207273  \n",
       "...                               ...  \n",
       "626789                       0.057600  \n",
       "638572                       0.085384  \n",
       "51334                        0.186810  \n",
       "93448                        0.172250  \n",
       "1009360                      0.035200  \n",
       "\n",
       "[7809 rows x 10 columns]"
      ]
     },
     "execution_count": 120,
     "metadata": {},
     "output_type": "execute_result"
    }
   ],
   "source": [
    "sample[sample['price_in_baseCurrencyAndUnit']<min_threshold]"
   ]
  },
  {
   "cell_type": "code",
   "execution_count": 121,
   "id": "dffc308d",
   "metadata": {},
   "outputs": [
    {
     "data": {
      "text/plain": [
       "10.17396451056676"
      ]
     },
     "execution_count": 121,
     "metadata": {},
     "output_type": "execute_result"
    }
   ],
   "source": [
    "max_threshold = df['price_in_baseCurrencyAndUnit'].quantile(0.99)\n",
    "max_threshold"
   ]
  },
  {
   "cell_type": "code",
   "execution_count": 98,
   "id": "59f27f1f",
   "metadata": {},
   "outputs": [
    {
     "data": {
      "text/plain": [
       "0.20800000000000002"
      ]
     },
     "execution_count": 98,
     "metadata": {},
     "output_type": "execute_result"
    }
   ],
   "source": [
    "min_threshold = df['price_in_baseCurrencyAndUnit'].quantile(0.1)\n",
    "min_threshold"
   ]
  },
  {
   "cell_type": "code",
   "execution_count": 99,
   "id": "f7bb5a3d",
   "metadata": {},
   "outputs": [
    {
     "data": {
      "text/html": [
       "<div>\n",
       "<style scoped>\n",
       "    .dataframe tbody tr th:only-of-type {\n",
       "        vertical-align: middle;\n",
       "    }\n",
       "\n",
       "    .dataframe tbody tr th {\n",
       "        vertical-align: top;\n",
       "    }\n",
       "\n",
       "    .dataframe thead th {\n",
       "        text-align: right;\n",
       "    }\n",
       "</style>\n",
       "<table border=\"1\" class=\"dataframe\">\n",
       "  <thead>\n",
       "    <tr style=\"text-align: right;\">\n",
       "      <th></th>\n",
       "      <th>country_id</th>\n",
       "      <th>locality_id</th>\n",
       "      <th>pt_id</th>\n",
       "      <th>month_recorded</th>\n",
       "      <th>year_recorded</th>\n",
       "      <th>price_paid</th>\n",
       "      <th>price_in_baseCurrencyAndUnit</th>\n",
       "    </tr>\n",
       "  </thead>\n",
       "  <tbody>\n",
       "    <tr>\n",
       "      <th>count</th>\n",
       "      <td>134209.000000</td>\n",
       "      <td>134209.000000</td>\n",
       "      <td>134209.000000</td>\n",
       "      <td>134209.000000</td>\n",
       "      <td>134209.000000</td>\n",
       "      <td>134209.000000</td>\n",
       "      <td>79129.000000</td>\n",
       "    </tr>\n",
       "    <tr>\n",
       "      <th>mean</th>\n",
       "      <td>1150.136660</td>\n",
       "      <td>31849.557980</td>\n",
       "      <td>14.886364</td>\n",
       "      <td>6.339672</td>\n",
       "      <td>2016.010335</td>\n",
       "      <td>1988.505205</td>\n",
       "      <td>1.484853</td>\n",
       "    </tr>\n",
       "    <tr>\n",
       "      <th>std</th>\n",
       "      <td>7667.225099</td>\n",
       "      <td>133298.491263</td>\n",
       "      <td>0.329262</td>\n",
       "      <td>3.409852</td>\n",
       "      <td>4.550365</td>\n",
       "      <td>16111.366780</td>\n",
       "      <td>3.046064</td>\n",
       "    </tr>\n",
       "    <tr>\n",
       "      <th>min</th>\n",
       "      <td>1.000000</td>\n",
       "      <td>0.000000</td>\n",
       "      <td>14.000000</td>\n",
       "      <td>1.000000</td>\n",
       "      <td>1990.000000</td>\n",
       "      <td>0.000455</td>\n",
       "      <td>0.000455</td>\n",
       "    </tr>\n",
       "    <tr>\n",
       "      <th>25%</th>\n",
       "      <td>90.000000</td>\n",
       "      <td>1493.000000</td>\n",
       "      <td>15.000000</td>\n",
       "      <td>3.000000</td>\n",
       "      <td>2014.000000</td>\n",
       "      <td>0.691320</td>\n",
       "      <td>0.390000</td>\n",
       "    </tr>\n",
       "    <tr>\n",
       "      <th>50%</th>\n",
       "      <td>138.000000</td>\n",
       "      <td>1839.000000</td>\n",
       "      <td>15.000000</td>\n",
       "      <td>6.000000</td>\n",
       "      <td>2017.000000</td>\n",
       "      <td>2.638333</td>\n",
       "      <td>0.785460</td>\n",
       "    </tr>\n",
       "    <tr>\n",
       "      <th>75%</th>\n",
       "      <td>196.000000</td>\n",
       "      <td>3415.000000</td>\n",
       "      <td>15.000000</td>\n",
       "      <td>9.000000</td>\n",
       "      <td>2020.000000</td>\n",
       "      <td>119.800000</td>\n",
       "      <td>1.540000</td>\n",
       "    </tr>\n",
       "    <tr>\n",
       "      <th>max</th>\n",
       "      <td>70001.000000</td>\n",
       "      <td>900022.000000</td>\n",
       "      <td>18.000000</td>\n",
       "      <td>12.000000</td>\n",
       "      <td>2021.000000</td>\n",
       "      <td>933333.333300</td>\n",
       "      <td>132.008368</td>\n",
       "    </tr>\n",
       "  </tbody>\n",
       "</table>\n",
       "</div>"
      ],
      "text/plain": [
       "          country_id    locality_id          pt_id  month_recorded  \\\n",
       "count  134209.000000  134209.000000  134209.000000   134209.000000   \n",
       "mean     1150.136660   31849.557980      14.886364        6.339672   \n",
       "std      7667.225099  133298.491263       0.329262        3.409852   \n",
       "min         1.000000       0.000000      14.000000        1.000000   \n",
       "25%        90.000000    1493.000000      15.000000        3.000000   \n",
       "50%       138.000000    1839.000000      15.000000        6.000000   \n",
       "75%       196.000000    3415.000000      15.000000        9.000000   \n",
       "max     70001.000000  900022.000000      18.000000       12.000000   \n",
       "\n",
       "       year_recorded     price_paid  price_in_baseCurrencyAndUnit  \n",
       "count  134209.000000  134209.000000                  79129.000000  \n",
       "mean     2016.010335    1988.505205                      1.484853  \n",
       "std         4.550365   16111.366780                      3.046064  \n",
       "min      1990.000000       0.000455                      0.000455  \n",
       "25%      2014.000000       0.691320                      0.390000  \n",
       "50%      2017.000000       2.638333                      0.785460  \n",
       "75%      2020.000000     119.800000                      1.540000  \n",
       "max      2021.000000  933333.333300                    132.008368  "
      ]
     },
     "execution_count": 99,
     "metadata": {},
     "output_type": "execute_result"
    }
   ],
   "source": [
    "sample.describe()"
   ]
  },
  {
   "cell_type": "code",
   "execution_count": 211,
   "id": "7ffbdda5",
   "metadata": {},
   "outputs": [
    {
     "name": "stderr",
     "output_type": "stream",
     "text": [
      "C:\\ProgramData\\Anaconda3\\lib\\site-packages\\seaborn\\_decorators.py:36: FutureWarning: Pass the following variables as keyword args: x, y. From version 0.12, the only valid positional argument will be `data`, and passing other arguments without an explicit keyword will result in an error or misinterpretation.\n",
      "  warnings.warn(\n"
     ]
    },
    {
     "data": {
      "image/png": "[encoded data removed]",
      "text/plain": [
       "<Figure size 432x288 with 1 Axes>"
      ]
     },
     "metadata": {
      "needs_background": "light"
     },
     "output_type": "display_data"
    }
   ],
   "source": [
    "#multivariance\n",
    "import seaborn as sbn\n",
    "sns.scatterplot(sample['year_recorded'],sample['price_in_baseCurrencyAndUnit'])\n",
    "plt.show()"
   ]
  },
  {
   "cell_type": "code",
   "execution_count": 123,
   "id": "573a198c",
   "metadata": {},
   "outputs": [],
   "source": [
    "#removing the ouutliers using percentile \n",
    "sample = sample[(sample.price_in_baseCurrencyAndUnit < max_threshold) & (sample.price_in_baseCurrencyAndUnit>min_threshold)]"
   ]
  },
  {
   "cell_type": "code",
   "execution_count": 124,
   "id": "98546750",
   "metadata": {},
   "outputs": [
    {
     "data": {
      "text/plain": [
       "(70382, 10)"
      ]
     },
     "execution_count": 124,
     "metadata": {},
     "output_type": "execute_result"
    }
   ],
   "source": [
    "sample.shape"
   ]
  },
  {
   "cell_type": "code",
   "execution_count": 212,
   "id": "cc937152",
   "metadata": {},
   "outputs": [
    {
     "name": "stderr",
     "output_type": "stream",
     "text": [
      "C:\\ProgramData\\Anaconda3\\lib\\site-packages\\seaborn\\_decorators.py:36: FutureWarning: Pass the following variables as keyword args: x, y. From version 0.12, the only valid positional argument will be `data`, and passing other arguments without an explicit keyword will result in an error or misinterpretation.\n",
      "  warnings.warn(\n"
     ]
    },
    {
     "data": {
      "image/png": "[encoded data removed]",
      "text/plain": [
       "<Figure size 432x288 with 1 Axes>"
      ]
     },
     "metadata": {
      "needs_background": "light"
     },
     "output_type": "display_data"
    }
   ],
   "source": [
    "#multivariance\n",
    "sns.scatterplot(sample['month_recorded'],sample['price_in_baseCurrencyAndUnit'])\n",
    "plt.show()"
   ]
  },
  {
   "cell_type": "code",
   "execution_count": 127,
   "id": "e7fac4e7",
   "metadata": {},
   "outputs": [
    {
     "data": {
      "text/html": [
       "<div>\n",
       "<style scoped>\n",
       "    .dataframe tbody tr th:only-of-type {\n",
       "        vertical-align: middle;\n",
       "    }\n",
       "\n",
       "    .dataframe tbody tr th {\n",
       "        vertical-align: top;\n",
       "    }\n",
       "\n",
       "    .dataframe thead th {\n",
       "        text-align: right;\n",
       "    }\n",
       "</style>\n",
       "<table border=\"1\" class=\"dataframe\">\n",
       "  <thead>\n",
       "    <tr style=\"text-align: right;\">\n",
       "      <th></th>\n",
       "      <th>country_name</th>\n",
       "      <th>commodity_purchased</th>\n",
       "      <th>market_type</th>\n",
       "    </tr>\n",
       "  </thead>\n",
       "  <tbody>\n",
       "    <tr>\n",
       "      <th>count</th>\n",
       "      <td>70382</td>\n",
       "      <td>70382</td>\n",
       "      <td>70382</td>\n",
       "    </tr>\n",
       "    <tr>\n",
       "      <th>unique</th>\n",
       "      <td>45</td>\n",
       "      <td>499</td>\n",
       "      <td>2</td>\n",
       "    </tr>\n",
       "    <tr>\n",
       "      <th>top</th>\n",
       "      <td>Bassas da India</td>\n",
       "      <td>Sugar - Retail</td>\n",
       "      <td>Retail</td>\n",
       "    </tr>\n",
       "    <tr>\n",
       "      <th>freq</th>\n",
       "      <td>11388</td>\n",
       "      <td>2433</td>\n",
       "      <td>64287</td>\n",
       "    </tr>\n",
       "  </tbody>\n",
       "</table>\n",
       "</div>"
      ],
      "text/plain": [
       "           country_name commodity_purchased market_type\n",
       "count             70382               70382       70382\n",
       "unique               45                 499           2\n",
       "top     Bassas da India      Sugar - Retail      Retail\n",
       "freq              11388                2433       64287"
      ]
     },
     "execution_count": 127,
     "metadata": {},
     "output_type": "execute_result"
    }
   ],
   "source": [
    "#summary findings \n",
    "#takes only character values\n",
    "sample.describe(include=['object'])"
   ]
  },
  {
   "cell_type": "code",
   "execution_count": 128,
   "id": "3c754d82",
   "metadata": {},
   "outputs": [
    {
     "data": {
      "text/html": [
       "<div>\n",
       "<style scoped>\n",
       "    .dataframe tbody tr th:only-of-type {\n",
       "        vertical-align: middle;\n",
       "    }\n",
       "\n",
       "    .dataframe tbody tr th {\n",
       "        vertical-align: top;\n",
       "    }\n",
       "\n",
       "    .dataframe thead th {\n",
       "        text-align: right;\n",
       "    }\n",
       "</style>\n",
       "<table border=\"1\" class=\"dataframe\">\n",
       "  <thead>\n",
       "    <tr style=\"text-align: right;\">\n",
       "      <th></th>\n",
       "      <th>country_id</th>\n",
       "      <th>locality_id</th>\n",
       "      <th>pt_id</th>\n",
       "      <th>month_recorded</th>\n",
       "      <th>year_recorded</th>\n",
       "      <th>price_paid</th>\n",
       "      <th>price_in_baseCurrencyAndUnit</th>\n",
       "    </tr>\n",
       "  </thead>\n",
       "  <tbody>\n",
       "    <tr>\n",
       "      <th>count</th>\n",
       "      <td>70382.000000</td>\n",
       "      <td>70382.000000</td>\n",
       "      <td>70382.000000</td>\n",
       "      <td>70382.000000</td>\n",
       "      <td>70382.000000</td>\n",
       "      <td>70382.000000</td>\n",
       "      <td>70382.000000</td>\n",
       "    </tr>\n",
       "    <tr>\n",
       "      <th>mean</th>\n",
       "      <td>222.984272</td>\n",
       "      <td>10361.443324</td>\n",
       "      <td>14.913401</td>\n",
       "      <td>6.308275</td>\n",
       "      <td>2017.005541</td>\n",
       "      <td>3.407301</td>\n",
       "      <td>1.424670</td>\n",
       "    </tr>\n",
       "    <tr>\n",
       "      <th>std</th>\n",
       "      <td>2196.994095</td>\n",
       "      <td>20577.817599</td>\n",
       "      <td>0.281248</td>\n",
       "      <td>3.387595</td>\n",
       "      <td>3.634875</td>\n",
       "      <td>16.350439</td>\n",
       "      <td>1.566969</td>\n",
       "    </tr>\n",
       "    <tr>\n",
       "      <th>min</th>\n",
       "      <td>1.000000</td>\n",
       "      <td>0.000000</td>\n",
       "      <td>14.000000</td>\n",
       "      <td>1.000000</td>\n",
       "      <td>1994.000000</td>\n",
       "      <td>0.040300</td>\n",
       "      <td>0.208000</td>\n",
       "    </tr>\n",
       "    <tr>\n",
       "      <th>25%</th>\n",
       "      <td>68.000000</td>\n",
       "      <td>1327.000000</td>\n",
       "      <td>15.000000</td>\n",
       "      <td>3.000000</td>\n",
       "      <td>2015.000000</td>\n",
       "      <td>0.500000</td>\n",
       "      <td>0.487500</td>\n",
       "    </tr>\n",
       "    <tr>\n",
       "      <th>50%</th>\n",
       "      <td>115.000000</td>\n",
       "      <td>1567.000000</td>\n",
       "      <td>15.000000</td>\n",
       "      <td>6.000000</td>\n",
       "      <td>2018.000000</td>\n",
       "      <td>0.931452</td>\n",
       "      <td>0.875435</td>\n",
       "    </tr>\n",
       "    <tr>\n",
       "      <th>75%</th>\n",
       "      <td>138.000000</td>\n",
       "      <td>1832.000000</td>\n",
       "      <td>15.000000</td>\n",
       "      <td>9.000000</td>\n",
       "      <td>2020.000000</td>\n",
       "      <td>1.925295</td>\n",
       "      <td>1.646455</td>\n",
       "    </tr>\n",
       "    <tr>\n",
       "      <th>max</th>\n",
       "      <td>40765.000000</td>\n",
       "      <td>112869.000000</td>\n",
       "      <td>15.000000</td>\n",
       "      <td>12.000000</td>\n",
       "      <td>2021.000000</td>\n",
       "      <td>858.000000</td>\n",
       "      <td>10.150000</td>\n",
       "    </tr>\n",
       "  </tbody>\n",
       "</table>\n",
       "</div>"
      ],
      "text/plain": [
       "         country_id    locality_id         pt_id  month_recorded  \\\n",
       "count  70382.000000   70382.000000  70382.000000    70382.000000   \n",
       "mean     222.984272   10361.443324     14.913401        6.308275   \n",
       "std     2196.994095   20577.817599      0.281248        3.387595   \n",
       "min        1.000000       0.000000     14.000000        1.000000   \n",
       "25%       68.000000    1327.000000     15.000000        3.000000   \n",
       "50%      115.000000    1567.000000     15.000000        6.000000   \n",
       "75%      138.000000    1832.000000     15.000000        9.000000   \n",
       "max    40765.000000  112869.000000     15.000000       12.000000   \n",
       "\n",
       "       year_recorded    price_paid  price_in_baseCurrencyAndUnit  \n",
       "count   70382.000000  70382.000000                  70382.000000  \n",
       "mean     2017.005541      3.407301                      1.424670  \n",
       "std         3.634875     16.350439                      1.566969  \n",
       "min      1994.000000      0.040300                      0.208000  \n",
       "25%      2015.000000      0.500000                      0.487500  \n",
       "50%      2018.000000      0.931452                      0.875435  \n",
       "75%      2020.000000      1.925295                      1.646455  \n",
       "max      2021.000000    858.000000                     10.150000  "
      ]
     },
     "execution_count": 128,
     "metadata": {},
     "output_type": "execute_result"
    }
   ],
   "source": [
    "#takes only numeric values\n",
    "sample.describe()"
   ]
  },
  {
   "cell_type": "code",
   "execution_count": 132,
   "id": "d51536aa",
   "metadata": {},
   "outputs": [
    {
     "data": {
      "text/html": [
       "<div>\n",
       "<style scoped>\n",
       "    .dataframe tbody tr th:only-of-type {\n",
       "        vertical-align: middle;\n",
       "    }\n",
       "\n",
       "    .dataframe tbody tr th {\n",
       "        vertical-align: top;\n",
       "    }\n",
       "\n",
       "    .dataframe thead th {\n",
       "        text-align: right;\n",
       "    }\n",
       "</style>\n",
       "<table border=\"1\" class=\"dataframe\">\n",
       "  <thead>\n",
       "    <tr style=\"text-align: right;\">\n",
       "      <th></th>\n",
       "      <th>country_id</th>\n",
       "      <th>locality_id</th>\n",
       "      <th>pt_id</th>\n",
       "      <th>month_recorded</th>\n",
       "      <th>year_recorded</th>\n",
       "      <th>price_paid</th>\n",
       "      <th>price_in_baseCurrencyAndUnit</th>\n",
       "    </tr>\n",
       "  </thead>\n",
       "  <tbody>\n",
       "    <tr>\n",
       "      <th>count</th>\n",
       "      <td>64287.000000</td>\n",
       "      <td>64287.000000</td>\n",
       "      <td>64287.0</td>\n",
       "      <td>64287.000000</td>\n",
       "      <td>64287.000000</td>\n",
       "      <td>64287.000000</td>\n",
       "      <td>64287.000000</td>\n",
       "    </tr>\n",
       "    <tr>\n",
       "      <th>mean</th>\n",
       "      <td>237.633612</td>\n",
       "      <td>10317.829032</td>\n",
       "      <td>15.0</td>\n",
       "      <td>6.303016</td>\n",
       "      <td>2017.055968</td>\n",
       "      <td>1.865520</td>\n",
       "      <td>1.470847</td>\n",
       "    </tr>\n",
       "    <tr>\n",
       "      <th>std</th>\n",
       "      <td>2298.225134</td>\n",
       "      <td>20699.362216</td>\n",
       "      <td>0.0</td>\n",
       "      <td>3.389229</td>\n",
       "      <td>3.526493</td>\n",
       "      <td>5.281842</td>\n",
       "      <td>1.593202</td>\n",
       "    </tr>\n",
       "    <tr>\n",
       "      <th>min</th>\n",
       "      <td>1.000000</td>\n",
       "      <td>0.000000</td>\n",
       "      <td>15.0</td>\n",
       "      <td>1.000000</td>\n",
       "      <td>1994.000000</td>\n",
       "      <td>0.040300</td>\n",
       "      <td>0.208000</td>\n",
       "    </tr>\n",
       "    <tr>\n",
       "      <th>25%</th>\n",
       "      <td>90.000000</td>\n",
       "      <td>1489.000000</td>\n",
       "      <td>15.0</td>\n",
       "      <td>3.000000</td>\n",
       "      <td>2015.000000</td>\n",
       "      <td>0.500000</td>\n",
       "      <td>0.507750</td>\n",
       "    </tr>\n",
       "    <tr>\n",
       "      <th>50%</th>\n",
       "      <td>115.000000</td>\n",
       "      <td>1682.000000</td>\n",
       "      <td>15.0</td>\n",
       "      <td>6.000000</td>\n",
       "      <td>2018.000000</td>\n",
       "      <td>0.911167</td>\n",
       "      <td>0.912340</td>\n",
       "    </tr>\n",
       "    <tr>\n",
       "      <th>75%</th>\n",
       "      <td>138.000000</td>\n",
       "      <td>1833.000000</td>\n",
       "      <td>15.0</td>\n",
       "      <td>9.000000</td>\n",
       "      <td>2020.000000</td>\n",
       "      <td>1.762110</td>\n",
       "      <td>1.700000</td>\n",
       "    </tr>\n",
       "    <tr>\n",
       "      <th>max</th>\n",
       "      <td>40765.000000</td>\n",
       "      <td>112869.000000</td>\n",
       "      <td>15.0</td>\n",
       "      <td>12.000000</td>\n",
       "      <td>2021.000000</td>\n",
       "      <td>237.600000</td>\n",
       "      <td>10.150000</td>\n",
       "    </tr>\n",
       "  </tbody>\n",
       "</table>\n",
       "</div>"
      ],
      "text/plain": [
       "         country_id    locality_id    pt_id  month_recorded  year_recorded  \\\n",
       "count  64287.000000   64287.000000  64287.0    64287.000000   64287.000000   \n",
       "mean     237.633612   10317.829032     15.0        6.303016    2017.055968   \n",
       "std     2298.225134   20699.362216      0.0        3.389229       3.526493   \n",
       "min        1.000000       0.000000     15.0        1.000000    1994.000000   \n",
       "25%       90.000000    1489.000000     15.0        3.000000    2015.000000   \n",
       "50%      115.000000    1682.000000     15.0        6.000000    2018.000000   \n",
       "75%      138.000000    1833.000000     15.0        9.000000    2020.000000   \n",
       "max    40765.000000  112869.000000     15.0       12.000000    2021.000000   \n",
       "\n",
       "         price_paid  price_in_baseCurrencyAndUnit  \n",
       "count  64287.000000                  64287.000000  \n",
       "mean       1.865520                      1.470847  \n",
       "std        5.281842                      1.593202  \n",
       "min        0.040300                      0.208000  \n",
       "25%        0.500000                      0.507750  \n",
       "50%        0.911167                      0.912340  \n",
       "75%        1.762110                      1.700000  \n",
       "max      237.600000                     10.150000  "
      ]
     },
     "execution_count": 132,
     "metadata": {},
     "output_type": "execute_result"
    }
   ],
   "source": [
    "sample[sample['market_type']=='Retail'].describe()"
   ]
  },
  {
   "cell_type": "code",
   "execution_count": 133,
   "id": "1e281210",
   "metadata": {},
   "outputs": [
    {
     "data": {
      "text/html": [
       "<div>\n",
       "<style scoped>\n",
       "    .dataframe tbody tr th:only-of-type {\n",
       "        vertical-align: middle;\n",
       "    }\n",
       "\n",
       "    .dataframe tbody tr th {\n",
       "        vertical-align: top;\n",
       "    }\n",
       "\n",
       "    .dataframe thead th {\n",
       "        text-align: right;\n",
       "    }\n",
       "</style>\n",
       "<table border=\"1\" class=\"dataframe\">\n",
       "  <thead>\n",
       "    <tr style=\"text-align: right;\">\n",
       "      <th></th>\n",
       "      <th>country_name</th>\n",
       "      <th>commodity_purchased</th>\n",
       "      <th>market_type</th>\n",
       "    </tr>\n",
       "  </thead>\n",
       "  <tbody>\n",
       "    <tr>\n",
       "      <th>count</th>\n",
       "      <td>64287</td>\n",
       "      <td>64287</td>\n",
       "      <td>64287</td>\n",
       "    </tr>\n",
       "    <tr>\n",
       "      <th>unique</th>\n",
       "      <td>42</td>\n",
       "      <td>334</td>\n",
       "      <td>1</td>\n",
       "    </tr>\n",
       "    <tr>\n",
       "      <th>top</th>\n",
       "      <td>Bassas da India</td>\n",
       "      <td>Sugar - Retail</td>\n",
       "      <td>Retail</td>\n",
       "    </tr>\n",
       "    <tr>\n",
       "      <th>freq</th>\n",
       "      <td>11255</td>\n",
       "      <td>2433</td>\n",
       "      <td>64287</td>\n",
       "    </tr>\n",
       "  </tbody>\n",
       "</table>\n",
       "</div>"
      ],
      "text/plain": [
       "           country_name commodity_purchased market_type\n",
       "count             64287               64287       64287\n",
       "unique               42                 334           1\n",
       "top     Bassas da India      Sugar - Retail      Retail\n",
       "freq              11255                2433       64287"
      ]
     },
     "execution_count": 133,
     "metadata": {},
     "output_type": "execute_result"
    }
   ],
   "source": [
    "#summary only for retail as market type\n",
    "sample[sample['market_type']=='Retail'].describe(include=['object'])"
   ]
  },
  {
   "cell_type": "code",
   "execution_count": 134,
   "id": "7e82d643",
   "metadata": {},
   "outputs": [
    {
     "data": {
      "text/html": [
       "<div>\n",
       "<style scoped>\n",
       "    .dataframe tbody tr th:only-of-type {\n",
       "        vertical-align: middle;\n",
       "    }\n",
       "\n",
       "    .dataframe tbody tr th {\n",
       "        vertical-align: top;\n",
       "    }\n",
       "\n",
       "    .dataframe thead th {\n",
       "        text-align: right;\n",
       "    }\n",
       "</style>\n",
       "<table border=\"1\" class=\"dataframe\">\n",
       "  <thead>\n",
       "    <tr style=\"text-align: right;\">\n",
       "      <th></th>\n",
       "      <th>country_name</th>\n",
       "      <th>commodity_purchased</th>\n",
       "      <th>market_type</th>\n",
       "    </tr>\n",
       "  </thead>\n",
       "  <tbody>\n",
       "    <tr>\n",
       "      <th>count</th>\n",
       "      <td>6095</td>\n",
       "      <td>6095</td>\n",
       "      <td>6095</td>\n",
       "    </tr>\n",
       "    <tr>\n",
       "      <th>unique</th>\n",
       "      <td>16</td>\n",
       "      <td>165</td>\n",
       "      <td>1</td>\n",
       "    </tr>\n",
       "    <tr>\n",
       "      <th>top</th>\n",
       "      <td>Colombia</td>\n",
       "      <td>Rice (mixed, low quality) - Wholesale</td>\n",
       "      <td>Wholesale</td>\n",
       "    </tr>\n",
       "    <tr>\n",
       "      <th>freq</th>\n",
       "      <td>2398</td>\n",
       "      <td>240</td>\n",
       "      <td>6095</td>\n",
       "    </tr>\n",
       "  </tbody>\n",
       "</table>\n",
       "</div>"
      ],
      "text/plain": [
       "       country_name                    commodity_purchased market_type\n",
       "count          6095                                   6095        6095\n",
       "unique           16                                    165           1\n",
       "top        Colombia  Rice (mixed, low quality) - Wholesale   Wholesale\n",
       "freq           2398                                    240        6095"
      ]
     },
     "execution_count": 134,
     "metadata": {},
     "output_type": "execute_result"
    }
   ],
   "source": [
    "#summary only for wholesale as market type\n",
    "sample[sample['market_type']=='Wholesale'].describe(include=['object'])"
   ]
  },
  {
   "cell_type": "code",
   "execution_count": 136,
   "id": "ebd71414",
   "metadata": {},
   "outputs": [
    {
     "name": "stderr",
     "output_type": "stream",
     "text": [
      "C:\\Users\\DELL\\AppData\\Local\\Temp/ipykernel_3524/3406936744.py:1: FutureWarning: Dropping of nuisance columns in DataFrame reductions (with 'numeric_only=None') is deprecated; in a future version this will raise TypeError.  Select only valid columns before calling the reduction.\n",
      "  sample.median()\n"
     ]
    },
    {
     "data": {
      "text/plain": [
       "country_id                       115.000000\n",
       "locality_id                     1567.000000\n",
       "pt_id                             15.000000\n",
       "month_recorded                     6.000000\n",
       "year_recorded                   2018.000000\n",
       "price_paid                         0.931452\n",
       "price_in_baseCurrencyAndUnit       0.875435\n",
       "dtype: float64"
      ]
     },
     "execution_count": 136,
     "metadata": {},
     "output_type": "execute_result"
    }
   ],
   "source": [
    "sample.median()"
   ]
  },
  {
   "cell_type": "code",
   "execution_count": 137,
   "id": "e57c7dcd",
   "metadata": {},
   "outputs": [
    {
     "name": "stderr",
     "output_type": "stream",
     "text": [
      "C:\\Users\\DELL\\AppData\\Local\\Temp/ipykernel_3524/642784991.py:1: FutureWarning: Dropping of nuisance columns in DataFrame reductions (with 'numeric_only=None') is deprecated; in a future version this will raise TypeError.  Select only valid columns before calling the reduction.\n",
      "  sample.mean()\n"
     ]
    },
    {
     "data": {
      "text/plain": [
       "country_id                        222.984272\n",
       "locality_id                     10361.443324\n",
       "pt_id                              14.913401\n",
       "month_recorded                      6.308275\n",
       "year_recorded                    2017.005541\n",
       "price_paid                          3.407301\n",
       "price_in_baseCurrencyAndUnit        1.424670\n",
       "dtype: float64"
      ]
     },
     "execution_count": 137,
     "metadata": {},
     "output_type": "execute_result"
    }
   ],
   "source": [
    "sample.mean()"
   ]
  },
  {
   "cell_type": "code",
   "execution_count": 138,
   "id": "34886083",
   "metadata": {},
   "outputs": [
    {
     "data": {
      "text/html": [
       "<div>\n",
       "<style scoped>\n",
       "    .dataframe tbody tr th:only-of-type {\n",
       "        vertical-align: middle;\n",
       "    }\n",
       "\n",
       "    .dataframe tbody tr th {\n",
       "        vertical-align: top;\n",
       "    }\n",
       "\n",
       "    .dataframe thead th {\n",
       "        text-align: right;\n",
       "    }\n",
       "</style>\n",
       "<table border=\"1\" class=\"dataframe\">\n",
       "  <thead>\n",
       "    <tr style=\"text-align: right;\">\n",
       "      <th></th>\n",
       "      <th>country_id</th>\n",
       "      <th>country_name</th>\n",
       "      <th>locality_id</th>\n",
       "      <th>commodity_purchased</th>\n",
       "      <th>pt_id</th>\n",
       "      <th>market_type</th>\n",
       "      <th>month_recorded</th>\n",
       "      <th>year_recorded</th>\n",
       "      <th>price_paid</th>\n",
       "      <th>price_in_baseCurrencyAndUnit</th>\n",
       "    </tr>\n",
       "  </thead>\n",
       "  <tbody>\n",
       "    <tr>\n",
       "      <th>0</th>\n",
       "      <td>115.0</td>\n",
       "      <td>Bassas da India</td>\n",
       "      <td>0</td>\n",
       "      <td>Sugar - Retail</td>\n",
       "      <td>15</td>\n",
       "      <td>Retail</td>\n",
       "      <td>3</td>\n",
       "      <td>2020</td>\n",
       "      <td>0.5</td>\n",
       "      <td>0.5</td>\n",
       "    </tr>\n",
       "  </tbody>\n",
       "</table>\n",
       "</div>"
      ],
      "text/plain": [
       "   country_id     country_name  locality_id commodity_purchased  pt_id  \\\n",
       "0       115.0  Bassas da India            0      Sugar - Retail     15   \n",
       "\n",
       "  market_type  month_recorded  year_recorded  price_paid  \\\n",
       "0      Retail               3           2020         0.5   \n",
       "\n",
       "   price_in_baseCurrencyAndUnit  \n",
       "0                           0.5  "
      ]
     },
     "execution_count": 138,
     "metadata": {},
     "output_type": "execute_result"
    }
   ],
   "source": [
    "sample.mode()"
   ]
  },
  {
   "cell_type": "code",
   "execution_count": 139,
   "id": "db2887b1",
   "metadata": {},
   "outputs": [
    {
     "data": {
      "text/plain": [
       "9.941999999999998"
      ]
     },
     "execution_count": 139,
     "metadata": {},
     "output_type": "execute_result"
    }
   ],
   "source": [
    "max(sample[\"price_in_baseCurrencyAndUnit\"])-min(sample[\"price_in_baseCurrencyAndUnit\"])"
   ]
  },
  {
   "cell_type": "code",
   "execution_count": 140,
   "id": "5000e024",
   "metadata": {},
   "outputs": [
    {
     "data": {
      "text/plain": [
       "[0.20800000000000002, 0.4875, 0.8754352000000001, 1.646455, 10.149999999999999]"
      ]
     },
     "execution_count": 140,
     "metadata": {},
     "output_type": "execute_result"
    }
   ],
   "source": [
    "#getting min, max, median and some intermediate values for price\n",
    "SpreadOfPrice=[sample[\"price_in_baseCurrencyAndUnit\"].quantile(0),\n",
    "sample[\"price_in_baseCurrencyAndUnit\"].quantile(0.25),\n",
    "sample[\"price_in_baseCurrencyAndUnit\"].quantile(0.50),\n",
    "sample[\"price_in_baseCurrencyAndUnit\"].quantile(0.75),\n",
    "sample[\"price_in_baseCurrencyAndUnit\"].quantile(1)]\n",
    "SpreadOfPrice"
   ]
  },
  {
   "cell_type": "code",
   "execution_count": 142,
   "id": "bf4eef78",
   "metadata": {},
   "outputs": [
    {
     "data": {
      "text/plain": [
       "<AxesSubplot:>"
      ]
     },
     "execution_count": 142,
     "metadata": {},
     "output_type": "execute_result"
    },
    {
     "data": {
      "image/png": "[encoded data removed]",
      "text/plain": [
       "<Figure size 432x432 with 1 Axes>"
      ]
     },
     "metadata": {
      "needs_background": "light"
     },
     "output_type": "display_data"
    }
   ],
   "source": [
    "sample.boxplot(column=\"price_in_baseCurrencyAndUnit\",\n",
    "return_type='axes',\n",
    "figsize=(6,6))"
   ]
  },
  {
   "cell_type": "code",
   "execution_count": 143,
   "id": "895012a7",
   "metadata": {},
   "outputs": [
    {
     "data": {
      "text/plain": [
       "2.4553923499115218"
      ]
     },
     "execution_count": 143,
     "metadata": {},
     "output_type": "execute_result"
    }
   ],
   "source": [
    "#variance\n",
    "sample[\"price_in_baseCurrencyAndUnit\"].var()"
   ]
  },
  {
   "cell_type": "code",
   "execution_count": 144,
   "id": "4915800b",
   "metadata": {},
   "outputs": [
    {
     "data": {
      "text/plain": [
       "1.5669691604851455"
      ]
     },
     "execution_count": 144,
     "metadata": {},
     "output_type": "execute_result"
    }
   ],
   "source": [
    "#standard deviation \n",
    "sample[\"price_in_baseCurrencyAndUnit\"].std()"
   ]
  },
  {
   "cell_type": "code",
   "execution_count": 145,
   "id": "58e84026",
   "metadata": {},
   "outputs": [],
   "source": [
    "#Data visualization"
   ]
  },
  {
   "cell_type": "code",
   "execution_count": 148,
   "id": "62a4cd7d",
   "metadata": {},
   "outputs": [
    {
     "data": {
      "image/png": "[encoded data removed]",
      "text/plain": [
       "<Figure size 1080x1080 with 1 Axes>"
      ]
     },
     "metadata": {
      "needs_background": "light"
     },
     "output_type": "display_data"
    }
   ],
   "source": [
    "# Top 15 Countries with most records available\n",
    "\n",
    "fig, ax = plt.subplots(1, 1, figsize=(15, 15), sharex=True)\n",
    "top_15_sample = sample[[\"country_id\", \"country_name\"]].groupby(\"country_name\").agg(['count'])[\"country_id\"]['count'].sort_values(ascending=False)[:15]\n",
    "fig = sns.barplot( x = top_15_sample.index, y = top_15_sample.values, ax = ax)\n",
    "fig.set_xticklabels(labels=top_15_sample.index , rotation=90)\n",
    "fig.set_ylabel(\"Numri i rekordeve ne datasetin tone\")\n",
    "fig.set_xlabel(\"Emri i Vendeve\")\n",
    "fig.set_title(\"20 Vendet me rekordet me te larta ne Datasetin tone\");"
   ]
  },
  {
   "cell_type": "code",
   "execution_count": 149,
   "id": "67800edc",
   "metadata": {},
   "outputs": [
    {
     "data": {
      "image/png": "[encoded data removed]",
      "text/plain": [
       "<Figure size 1080x1080 with 1 Axes>"
      ]
     },
     "metadata": {
      "needs_background": "light"
     },
     "output_type": "display_data"
    }
   ],
   "source": [
    "# Top 15 most reported commodites\n",
    "\n",
    "fig, ax = plt.subplots(1, 1, figsize=(15, 15), sharex=True)\n",
    "top_15_sample = sample[[\"country_id\", \"commodity_purchased\"]].groupby(\"commodity_purchased\").agg(['count'])[\"country_id\"]['count'].sort_values(ascending=False)[:15]\n",
    "fig = sns.barplot( x = top_15_sample.index, y = top_15_sample.values, ax=ax)\n",
    "fig.set_xticklabels(labels=top_15_sample.index , rotation=90)\n",
    "fig.set_ylabel(\"Numri i mallrave qe jane blere me se shumti\")\n",
    "fig.set_xlabel(\"Emrat e mallrave me te zgjedhura\")\n",
    "fig.set_title(\"15 Mallrat me te blera\");"
   ]
  },
  {
   "cell_type": "code",
   "execution_count": 156,
   "id": "fe5cd136",
   "metadata": {},
   "outputs": [],
   "source": [
    "#Extract for one country analysis\n",
    "\n",
    "IndonesiaSample = sample[sample[\"country_name\"] == \"Indonesia\"]"
   ]
  },
  {
   "cell_type": "code",
   "execution_count": 158,
   "id": "2f7af1a0",
   "metadata": {},
   "outputs": [
    {
     "name": "stderr",
     "output_type": "stream",
     "text": [
      "C:\\Users\\DELL\\AppData\\Local\\Temp/ipykernel_3524/3152446215.py:3: SettingWithCopyWarning: \n",
      "A value is trying to be set on a copy of a slice from a DataFrame.\n",
      "Try using .loc[row_indexer,col_indexer] = value instead\n",
      "\n",
      "See the caveats in the documentation: https://pandas.pydata.org/pandas-docs/stable/user_guide/indexing.html#returning-a-view-versus-a-copy\n",
      "  IndonesiaSample[\"Date\"] = [  y+ \" \" +x for x,y in list(zip(IndonesiaSample[\"month_recorded\"].astype(str).values, IndonesiaSample[\"year_recorded\"].astype(str).values)) ]\n",
      "C:\\Users\\DELL\\AppData\\Local\\Temp/ipykernel_3524/3152446215.py:4: SettingWithCopyWarning: \n",
      "A value is trying to be set on a copy of a slice from a DataFrame.\n",
      "Try using .loc[row_indexer,col_indexer] = value instead\n",
      "\n",
      "See the caveats in the documentation: https://pandas.pydata.org/pandas-docs/stable/user_guide/indexing.html#returning-a-view-versus-a-copy\n",
      "  IndonesiaSample[\"Date\"] = pd.to_datetime(IndonesiaSample[\"Date\"])\n"
     ]
    }
   ],
   "source": [
    "# Create a Date Column\n",
    "\n",
    "IndonesiaSample[\"Date\"] = [  y+ \" \" +x for x,y in list(zip(IndonesiaSample[\"month_recorded\"].astype(str).values, IndonesiaSample[\"year_recorded\"].astype(str).values)) ]\n",
    "IndonesiaSample[\"Date\"] = pd.to_datetime(IndonesiaSample[\"Date\"])"
   ]
  },
  {
   "cell_type": "code",
   "execution_count": 159,
   "id": "52b1270c",
   "metadata": {},
   "outputs": [],
   "source": [
    "IndonesiaSample = IndonesiaSample.set_index(\"Date\")"
   ]
  },
  {
   "cell_type": "code",
   "execution_count": 160,
   "id": "96cc63b0",
   "metadata": {},
   "outputs": [
    {
     "data": {
      "text/plain": [
       "<Figure size 432x288 with 0 Axes>"
      ]
     },
     "metadata": {},
     "output_type": "display_data"
    },
    {
     "data": {
      "image/png": "[encoded data removed]",
      "text/plain": [
       "<Figure size 1080x1080 with 7 Axes>"
      ]
     },
     "metadata": {
      "needs_background": "light"
     },
     "output_type": "display_data"
    }
   ],
   "source": [
    "#Visualizaiton of data fields over time\n",
    "\n",
    "plt.figure()\n",
    "IndonesiaSample.plot(subplots=True, figsize=(15,15))\n",
    "plt.xlabel(\"Date\");"
   ]
  },
  {
   "cell_type": "code",
   "execution_count": 161,
   "id": "27bc524e",
   "metadata": {},
   "outputs": [
    {
     "data": {
      "text/html": [
       "<div>\n",
       "<style scoped>\n",
       "    .dataframe tbody tr th:only-of-type {\n",
       "        vertical-align: middle;\n",
       "    }\n",
       "\n",
       "    .dataframe tbody tr th {\n",
       "        vertical-align: top;\n",
       "    }\n",
       "\n",
       "    .dataframe thead th {\n",
       "        text-align: right;\n",
       "    }\n",
       "</style>\n",
       "<table border=\"1\" class=\"dataframe\">\n",
       "  <thead>\n",
       "    <tr style=\"text-align: right;\">\n",
       "      <th></th>\n",
       "      <th>country_id</th>\n",
       "      <th>country_name</th>\n",
       "      <th>locality_id</th>\n",
       "      <th>commodity_purchased</th>\n",
       "      <th>pt_id</th>\n",
       "      <th>market_type</th>\n",
       "      <th>month_recorded</th>\n",
       "      <th>year_recorded</th>\n",
       "      <th>price_paid</th>\n",
       "      <th>price_in_baseCurrencyAndUnit</th>\n",
       "    </tr>\n",
       "    <tr>\n",
       "      <th>Date</th>\n",
       "      <th></th>\n",
       "      <th></th>\n",
       "      <th></th>\n",
       "      <th></th>\n",
       "      <th></th>\n",
       "      <th></th>\n",
       "      <th></th>\n",
       "      <th></th>\n",
       "      <th></th>\n",
       "      <th></th>\n",
       "    </tr>\n",
       "  </thead>\n",
       "  <tbody>\n",
       "    <tr>\n",
       "      <th>2016-10-01</th>\n",
       "      <td>116.0</td>\n",
       "      <td>Indonesia</td>\n",
       "      <td>1526</td>\n",
       "      <td>Chili (red) - Retail</td>\n",
       "      <td>15</td>\n",
       "      <td>Retail</td>\n",
       "      <td>10</td>\n",
       "      <td>2016</td>\n",
       "      <td>4.595500</td>\n",
       "      <td>4.595500</td>\n",
       "    </tr>\n",
       "    <tr>\n",
       "      <th>2016-10-01</th>\n",
       "      <td>116.0</td>\n",
       "      <td>Indonesia</td>\n",
       "      <td>1526</td>\n",
       "      <td>Chili (bird's eye) - Retail</td>\n",
       "      <td>15</td>\n",
       "      <td>Retail</td>\n",
       "      <td>10</td>\n",
       "      <td>2016</td>\n",
       "      <td>2.196250</td>\n",
       "      <td>2.196250</td>\n",
       "    </tr>\n",
       "    <tr>\n",
       "      <th>2016-08-01</th>\n",
       "      <td>116.0</td>\n",
       "      <td>Indonesia</td>\n",
       "      <td>1530</td>\n",
       "      <td>Chili (red, curly) - Retail</td>\n",
       "      <td>15</td>\n",
       "      <td>Retail</td>\n",
       "      <td>8</td>\n",
       "      <td>2016</td>\n",
       "      <td>2.627258</td>\n",
       "      <td>2.627258</td>\n",
       "    </tr>\n",
       "    <tr>\n",
       "      <th>2020-01-01</th>\n",
       "      <td>116.0</td>\n",
       "      <td>Indonesia</td>\n",
       "      <td>1524</td>\n",
       "      <td>Chili (red, large) - Retail</td>\n",
       "      <td>15</td>\n",
       "      <td>Retail</td>\n",
       "      <td>1</td>\n",
       "      <td>2020</td>\n",
       "      <td>3.640000</td>\n",
       "      <td>3.640000</td>\n",
       "    </tr>\n",
       "    <tr>\n",
       "      <th>2020-05-01</th>\n",
       "      <td>116.0</td>\n",
       "      <td>Indonesia</td>\n",
       "      <td>1533</td>\n",
       "      <td>Rice (medium quality) - Retail</td>\n",
       "      <td>15</td>\n",
       "      <td>Retail</td>\n",
       "      <td>5</td>\n",
       "      <td>2020</td>\n",
       "      <td>0.742000</td>\n",
       "      <td>0.742000</td>\n",
       "    </tr>\n",
       "  </tbody>\n",
       "</table>\n",
       "</div>"
      ],
      "text/plain": [
       "            country_id country_name  locality_id  \\\n",
       "Date                                               \n",
       "2016-10-01       116.0    Indonesia         1526   \n",
       "2016-10-01       116.0    Indonesia         1526   \n",
       "2016-08-01       116.0    Indonesia         1530   \n",
       "2020-01-01       116.0    Indonesia         1524   \n",
       "2020-05-01       116.0    Indonesia         1533   \n",
       "\n",
       "                       commodity_purchased  pt_id market_type  month_recorded  \\\n",
       "Date                                                                            \n",
       "2016-10-01            Chili (red) - Retail     15      Retail              10   \n",
       "2016-10-01     Chili (bird's eye) - Retail     15      Retail              10   \n",
       "2016-08-01     Chili (red, curly) - Retail     15      Retail               8   \n",
       "2020-01-01     Chili (red, large) - Retail     15      Retail               1   \n",
       "2020-05-01  Rice (medium quality) - Retail     15      Retail               5   \n",
       "\n",
       "            year_recorded  price_paid  price_in_baseCurrencyAndUnit  \n",
       "Date                                                                 \n",
       "2016-10-01           2016    4.595500                      4.595500  \n",
       "2016-10-01           2016    2.196250                      2.196250  \n",
       "2016-08-01           2016    2.627258                      2.627258  \n",
       "2020-01-01           2020    3.640000                      3.640000  \n",
       "2020-05-01           2020    0.742000                      0.742000  "
      ]
     },
     "execution_count": 161,
     "metadata": {},
     "output_type": "execute_result"
    }
   ],
   "source": [
    "IndonesiaSample.head()"
   ]
  },
  {
   "cell_type": "code",
   "execution_count": 163,
   "id": "ca85abd2",
   "metadata": {},
   "outputs": [
    {
     "data": {
      "text/plain": [
       "count    70382.000000\n",
       "mean         1.424670\n",
       "std          1.566969\n",
       "min          0.208000\n",
       "25%          0.487500\n",
       "50%          0.875435\n",
       "75%          1.646455\n",
       "max         10.150000\n",
       "Name: price_in_baseCurrencyAndUnit, dtype: float64"
      ]
     },
     "execution_count": 163,
     "metadata": {},
     "output_type": "execute_result"
    }
   ],
   "source": [
    "#Data Stats for the price column\n",
    "\n",
    "sample['price_in_baseCurrencyAndUnit'].describe()"
   ]
  },
  {
   "cell_type": "code",
   "execution_count": 196,
   "id": "93c4e46a",
   "metadata": {},
   "outputs": [],
   "source": [
    "# Create a Date Column\n",
    "sample[\"Date\"] = [  y+ \" \" +x for x,y in list(zip(df[\"month_recorded\"].astype(str).values, sample[\"year_recorded\"].astype(str).values)) ]\n",
    "sample[\"Date\"] = pd.to_datetime(sample[\"Date\"])\n",
    "sample = sample.set_index(\"Date\")"
   ]
  },
  {
   "cell_type": "code",
   "execution_count": 197,
   "id": "3f8fd321",
   "metadata": {},
   "outputs": [
    {
     "data": {
      "image/png": "[encoded data removed]",
      "text/plain": [
       "<Figure size 720x360 with 1 Axes>"
      ]
     },
     "metadata": {
      "needs_background": "light"
     },
     "output_type": "display_data"
    }
   ],
   "source": [
    "# Analyze the Monthly Change in price_paid\n",
    "import matplotlib.dates as mdates\n",
    "usd_month = sample.resample(\"M\").mean()\n",
    "fig, ax = plt.subplots(figsize=(10, 5))\n",
    "ax.xaxis.set_major_formatter(mdates.DateFormatter('%Y-%m'))\n",
    "ax.bar(sample.index, sample[\"price_in_baseCurrencyAndUnit\"], width=25, align='center')\n",
    "ax.set_ylabel(\"USD (US Dollars)\")\n",
    "ax.set_xlabel('Date')\n",
    "ax.set_title(\"Nderrimet e Cmimeve gjate muajve\");"
   ]
  },
  {
   "cell_type": "code",
   "execution_count": 199,
   "id": "0446cb93",
   "metadata": {},
   "outputs": [
    {
     "name": "stdout",
     "output_type": "stream",
     "text": [
      "            country_id                      country_name  locality_id  \\\n",
      "Date                                                                    \n",
      "2011-01-01       115.0                   Bassas da India         1508   \n",
      "2012-02-01       231.0                         Sri Lanka         2740   \n",
      "2018-03-01       145.0                             Libya         1836   \n",
      "2020-04-01       106.0                            Guinea        40702   \n",
      "2012-05-01       138.0                        Kyrgyzstan         1748   \n",
      "...                ...                               ...          ...   \n",
      "2017-02-01        90.0                            Gambia         1290   \n",
      "2021-03-01       118.0                              Iraq         1566   \n",
      "2020-04-01       116.0                         Indonesia         1526   \n",
      "2013-05-01        68.0  Democratic Republic of the Congo         1071   \n",
      "2015-06-01       115.0                   Bassas da India         1484   \n",
      "\n",
      "                         commodity_purchased  pt_id market_type  \\\n",
      "Date                                                              \n",
      "2011-01-01              Wheat flour - Retail     15      Retail   \n",
      "2012-02-01              Wheat flour - Retail     15      Retail   \n",
      "2018-03-01                 Tomatoes - Retail     15      Retail   \n",
      "2020-04-01      Cassava meal (gari) - Retail     15      Retail   \n",
      "2012-05-01          Oil (sunflower) - Retail     15      Retail   \n",
      "...                                      ...    ...         ...   \n",
      "2017-02-01                   Garlic - Retail     15      Retail   \n",
      "2021-03-01            Sanitary pads - Retail     15      Retail   \n",
      "2020-04-01  Chili (bird's eye, red) - Retail     15      Retail   \n",
      "2013-05-01             Fish (fresh) - Retail     15      Retail   \n",
      "2015-06-01          Lentils (moong) - Retail     15      Retail   \n",
      "\n",
      "            month_recorded  year_recorded  price_paid  \\\n",
      "Date                                                    \n",
      "2011-01-01               5           2011    0.286000   \n",
      "2012-02-01               5           2012    0.400000   \n",
      "2018-03-01               9           2018    0.660000   \n",
      "2020-04-01              10           2020    0.623370   \n",
      "2012-05-01               1           2012    1.333333   \n",
      "...                    ...            ...         ...   \n",
      "2017-02-01               5           2017    2.533335   \n",
      "2021-03-01               7           2021    2.040000   \n",
      "2020-04-01               9           2020    1.255882   \n",
      "2013-05-01               7           2013    2.443700   \n",
      "2015-06-01               5           2015    1.534000   \n",
      "\n",
      "            price_in_baseCurrencyAndUnit  \n",
      "Date                                      \n",
      "2011-01-01                      0.286000  \n",
      "2012-02-01                      0.400000  \n",
      "2018-03-01                      0.660000  \n",
      "2020-04-01                      0.623370  \n",
      "2012-05-01                      1.333333  \n",
      "...                                  ...  \n",
      "2017-02-01                      2.533335  \n",
      "2021-03-01                      2.040000  \n",
      "2020-04-01                      1.255882  \n",
      "2013-05-01                      2.443700  \n",
      "2015-06-01                      1.534000  \n",
      "\n",
      "[70382 rows x 10 columns]\n"
     ]
    },
    {
     "data": {
      "image/png": "[encoded data removed]",
      "text/plain": [
       "<Figure size 2160x1440 with 1 Axes>"
      ]
     },
     "metadata": {
      "needs_background": "light"
     },
     "output_type": "display_data"
    }
   ],
   "source": [
    "# Analyze the Seasonal Change of food price in last 8 years\n",
    "\n",
    "sample_last_two = sample\n",
    "fig, ax = plt.subplots(1, 1, figsize=(30, 20), sharex=True)\n",
    "sns.boxplot(data = sample_last_two, x=sample_last_two.index.month, y='price_in_baseCurrencyAndUnit', ax=ax)\n",
    "ax.set_ylabel(\"USD (US Dollars)\")\n",
    "ax.set_title('Ndryshimi sezonal i cmimeve te ushqimit')\n",
    "ax.set_xlabel('Month');\n",
    "if (sample['price_in_baseCurrencyAndUnit'] < 100000).all():\n",
    "    print(sample)"
   ]
  },
  {
   "cell_type": "code",
   "execution_count": 201,
   "id": "5eea21a9",
   "metadata": {},
   "outputs": [
    {
     "data": {
      "image/png": "[encoded data removed]",
      "text/plain": [
       "<Figure size 1440x1152 with 1 Axes>"
      ]
     },
     "metadata": {
      "needs_background": "light"
     },
     "output_type": "display_data"
    }
   ],
   "source": [
    "# Analyze the Seasonal Change of food price in last two years\n",
    "\n",
    "sample_last_two = sample.loc['2019-01-01':'2021-01-01']\n",
    "fig, ax = plt.subplots(1, 1, figsize=(20, 16), sharex=True)\n",
    "sns.boxplot(data = sample_last_two, x=sample_last_two.index.month, y='price_paid', ax=ax)\n",
    "ax.set_ylabel(\"USD (US Dollars)\")\n",
    "ax.set_title('Food Prices Seasonal Changes')\n",
    "ax.set_xlabel('Month');"
   ]
  },
  {
   "cell_type": "code",
   "execution_count": 202,
   "id": "785267d5",
   "metadata": {},
   "outputs": [],
   "source": [
    "# Monthly and weekly sampling for 8 years\n",
    "\n",
    "sample_month=sample.loc['2013-01-01':'2021-01-01'].resample(\"M\").mean()\n",
    "sample_week = sample.loc['2013-01-01':'2021-01-01'].resample(\"W\").mean()"
   ]
  },
  {
   "cell_type": "code",
   "execution_count": 203,
   "id": "66c666b3",
   "metadata": {},
   "outputs": [
    {
     "data": {
      "image/png": "[encoded data removed]",
      "text/plain": [
       "<Figure size 1440x1080 with 1 Axes>"
      ]
     },
     "metadata": {
      "needs_background": "light"
     },
     "output_type": "display_data"
    }
   ],
   "source": [
    "# Comparing Average plots from 2013 to 2021\n",
    "\n",
    "fig, ax = plt.subplots(figsize=(20, 15))\n",
    "ax.plot(sample_month[\"price_paid\"], marker='.', linestyle='-', linewidth = 0.5, label='Monthly', color='black')\n",
    "ax.plot(sample_week[\"price_paid\"], marker='o', markersize=8, linestyle='-', label='Weekly', color='coral')\n",
    "ax.set_ylabel(\"Cmimi ne USD (US Dollars)\")\n",
    "plt.tick_params(labelsize=15)\n",
    "ax.legend(prop={\"size\":15});"
   ]
  },
  {
   "cell_type": "code",
   "execution_count": 210,
   "id": "3ff1011b",
   "metadata": {},
   "outputs": [
    {
     "name": "stderr",
     "output_type": "stream",
     "text": [
      "C:\\ProgramData\\Anaconda3\\lib\\site-packages\\seaborn\\_decorators.py:36: FutureWarning: Pass the following variables as keyword args: x, y. From version 0.12, the only valid positional argument will be `data`, and passing other arguments without an explicit keyword will result in an error or misinterpretation.\n",
      "  warnings.warn(\n"
     ]
    },
    {
     "data": {
      "image/png": "[encoded data removed]",
      "text/plain": [
       "<Figure size 432x288 with 1 Axes>"
      ]
     },
     "metadata": {
      "needs_background": "light"
     },
     "output_type": "display_data"
    }
   ],
   "source": []
  },
  {
   "cell_type": "code",
   "execution_count": null,
   "id": "0fe74c87",
   "metadata": {},
   "outputs": [],
   "source": []
  }
 ],
 "metadata": {
  "kernelspec": {
   "display_name": "Python 3 (ipykernel)",
   "language": "python",
   "name": "python3"
  },
  "language_info": {
   "codemirror_mode": {
    "name": "ipython",
    "version": 3
   },
   "file_extension": ".py",
   "mimetype": "text/x-python",
   "name": "python",
   "nbconvert_exporter": "python",
   "pygments_lexer": "ipython3",
   "version": "3.9.7"
  }
 },
 "nbformat": 4,
 "nbformat_minor": 5
}
